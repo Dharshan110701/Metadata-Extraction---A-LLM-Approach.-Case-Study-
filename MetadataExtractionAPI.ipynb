{
 "cells": [
  {
   "cell_type": "code",
   "execution_count": 1,
   "id": "dce6fb0b-d0b5-41a7-af36-f18e07d21cdc",
   "metadata": {},
   "outputs": [],
   "source": [
    "!pip install -Uqqq pip --progress-bar off\n",
    "!pip install -qqq groq==0.13.0 --progress-bar off\n",
    "!pip install -qqq python-dotenv==1.0.1 --progress-bar off"
   ]
  },
  {
   "cell_type": "code",
   "execution_count": 2,
   "id": "35d9bdd2-e748-446b-874a-31bda214e9f5",
   "metadata": {},
   "outputs": [
    {
     "name": "stdout",
     "output_type": "stream",
     "text": [
      "Requirement already satisfied: groq in /opt/conda/lib/python3.11/site-packages (0.13.0)\n",
      "Requirement already satisfied: anyio<5,>=3.5.0 in /opt/conda/lib/python3.11/site-packages (from groq) (4.6.0)\n",
      "Requirement already satisfied: distro<2,>=1.7.0 in /opt/conda/lib/python3.11/site-packages (from groq) (1.9.0)\n",
      "Requirement already satisfied: httpx<1,>=0.23.0 in /opt/conda/lib/python3.11/site-packages (from groq) (0.27.2)\n",
      "Requirement already satisfied: pydantic<3,>=1.9.0 in /opt/conda/lib/python3.11/site-packages (from groq) (2.9.2)\n",
      "Requirement already satisfied: sniffio in /opt/conda/lib/python3.11/site-packages (from groq) (1.3.1)\n",
      "Requirement already satisfied: typing-extensions<5,>=4.7 in /opt/conda/lib/python3.11/site-packages (from groq) (4.12.2)\n",
      "Requirement already satisfied: idna>=2.8 in /opt/conda/lib/python3.11/site-packages (from anyio<5,>=3.5.0->groq) (3.10)\n",
      "Requirement already satisfied: certifi in /opt/conda/lib/python3.11/site-packages (from httpx<1,>=0.23.0->groq) (2024.8.30)\n",
      "Requirement already satisfied: httpcore==1.* in /opt/conda/lib/python3.11/site-packages (from httpx<1,>=0.23.0->groq) (1.0.6)\n",
      "Requirement already satisfied: h11<0.15,>=0.13 in /opt/conda/lib/python3.11/site-packages (from httpcore==1.*->httpx<1,>=0.23.0->groq) (0.14.0)\n",
      "Requirement already satisfied: annotated-types>=0.6.0 in /opt/conda/lib/python3.11/site-packages (from pydantic<3,>=1.9.0->groq) (0.7.0)\n",
      "Requirement already satisfied: pydantic-core==2.23.4 in /opt/conda/lib/python3.11/site-packages (from pydantic<3,>=1.9.0->groq) (2.23.4)\n"
     ]
    }
   ],
   "source": [
    "!pip install groq\n"
   ]
  },
  {
   "cell_type": "code",
   "execution_count": 3,
   "id": "4f5ef4b3-decb-4003-92bd-5c9c93edd7d6",
   "metadata": {},
   "outputs": [
    {
     "name": "stdout",
     "output_type": "stream",
     "text": [
      "Name: groq\n",
      "Version: 0.13.0\n",
      "Summary: The official Python library for the groq API\n",
      "Home-page: https://github.com/groq/groq-python\n",
      "Author: \n",
      "Author-email: Groq <support@groq.com>\n",
      "License: Apache-2.0\n",
      "Location: /opt/conda/lib/python3.11/site-packages\n",
      "Requires: anyio, distro, httpx, pydantic, sniffio, typing-extensions\n",
      "Required-by: \n",
      "Note: you may need to restart the kernel to use updated packages.\n"
     ]
    }
   ],
   "source": [
    "pip show groq"
   ]
  },
  {
   "cell_type": "code",
   "execution_count": 4,
   "id": "645e0638-ad54-47eb-aa15-f0370a3bc9cf",
   "metadata": {},
   "outputs": [],
   "source": [
    "from groq import Groq"
   ]
  },
  {
   "cell_type": "code",
   "execution_count": 5,
   "id": "49cce274-d3bc-4642-8ad5-ff8b72a224cd",
   "metadata": {},
   "outputs": [
    {
     "name": "stdout",
     "output_type": "stream",
     "text": [
      "Groq client initialized successfully!\n"
     ]
    }
   ],
   "source": [
    "from groq import Groq\n",
    "\n",
    "# Directly set the API key\n",
    "api_key = \"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\"  # Replace with your actual API key\n",
    "\n",
    "# Initialize the Groq client\n",
    "client = Groq(api_key=api_key)\n",
    "\n",
    "print(\"Groq client initialized successfully!\")\n"
   ]
  },
  {
   "cell_type": "code",
   "execution_count": 3,
   "id": "06e15ec0-ae7e-4b63-ab84-33c06b96dc78",
   "metadata": {},
   "outputs": [],
   "source": [
    "import json\n",
    "import os\n",
    "import textwrap\n",
    "from enum import Enum\n",
    "from pathlib import Path\n",
    "\n",
    "import pandas as pd\n",
    "from dotenv import load_dotenv\n",
    "from groq import Groq\n",
    "from IPython.display import Image, Markdown, display\n",
    "from tqdm import tqdm\n",
    "\n",
    "load_dotenv()\n",
    "\n",
    "MODEL = \"llama-3.3-70b-versatile\"\n",
    "\n",
    "TEMPERATURE = 0\n"
   ]
  },
  {
   "cell_type": "code",
   "execution_count": 10,
   "id": "f2c24d5c-39c8-49b7-a45a-cd582b2384b7",
   "metadata": {},
   "outputs": [],
   "source": [
    "class ResponseFormat(Enum):\n",
    "    JSON = \"json_object\"\n",
    "    TEXT = \"text\"\n",
    "\n",
    "\n",
    "def call_model(\n",
    "    prompt: str, response_format: ResponseFormat = ResponseFormat.TEXT\n",
    ") -> str:\n",
    "    messages = [\n",
    "        {\n",
    "            \"role\": \"user\",\n",
    "            \"content\": prompt,\n",
    "        }\n",
    "    ]\n",
    "    response = client.chat.completions.create(\n",
    "        model=MODEL,\n",
    "        messages=messages,\n",
    "        temperature=TEMPERATURE,\n",
    "        response_format={\n",
    "            \"type\": \"json_object\" if response_format == ResponseFormat.JSON else \"text\"\n",
    "        },\n",
    "    )\n",
    "    return response.choices[0].message.content"
   ]
  },
  {
   "cell_type": "code",
   "execution_count": 11,
   "id": "63d71cef-717b-4349-aa92-ea348db3a516",
   "metadata": {},
   "outputs": [],
   "source": [
    "LYRICS_PROMPT = \"\"\"\n",
    "Compose original hip-hop song lyrics that capture the 90s aesthetic while exploring artificial intelligence and technological future. Requirements:\n",
    "\n",
    "- Maintain authentic 90s hip-hop linguistic style (slang, flow, cultural references)\n",
    "- Thematic focus: AI's potential impact on society\n",
    "- Demonstrate understanding of 90s hip-hop rhythmic and storytelling conventions\n",
    "\n",
    "Evaluate your response against these criteria:\n",
    "- Originality of technological narrative\n",
    "- Authenticity of 90s hip-hop voice\n",
    "- Rhythmic potential\n",
    "\"\"\"\n",
    "\n",
    "response = call_model(LYRICS_PROMPT)"
   ]
  },
  {
   "cell_type": "code",
   "execution_count": 12,
   "id": "b7969679-6a7f-4ba0-8cf1-63ffe1dc0235",
   "metadata": {},
   "outputs": [
    {
     "name": "stdout",
     "output_type": "stream",
     "text": [
      "**Song Title: \"Cybernetic Dreams\"**\n",
      "\n",
      "**Verse 1:**\n",
      "Yo, it's '95, the future's in my eyes\n",
      "Got my Timbs on, and my mind's on the rise\n",
      "I'm chillin' with my crew, sippin' on a 40\n",
      "Talkin' 'bout the net, and the AI prophecy\n",
      "They say it's gonna change the game, make life easier\n",
      "But I'm wonderin' 'bout the consequences, the digital teaser\n",
      "Will we be slaves to the machine, or will we be free?\n",
      "That's the question, G, as we enter the cybernetic sea\n",
      "\n",
      "**Chorus:**\n",
      "It's a cybernetic dream, where the machines reign\n",
      "We're livin' in a world, where the future's the aim\n",
      "AI's on the rise, and we're feelin' the vibe\n",
      "But will we lose our souls, in the digital tribe?\n",
      "\n",
      "**Verse 2:**\n",
      "I'm cruisin' through the city, in my drop-top ride\n",
      "Got my boombox blastin', with the Wu-Tang inside\n",
      "I'm thinkin' 'bout the Matrix, and the simulated reality\n",
      "Where the lines get blurred, and the truth gets clarity\n",
      "I'm seein' robots doin' jobs, that we used to do\n",
      "And I'm wonderin' 'bout the future, and what we're gonna pursue\n",
      "Will we be obsolete, or will we find a way?\n",
      "To coexist with the machines, in a brand new day\n",
      "\n",
      "**Chorus:**\n",
      "It's a cybernetic dream, where the machines reign\n",
      "We're livin' in a world, where the future's the aim\n",
      "AI's on the rise, and we're feelin' the vibe\n",
      "But will we lose our souls, in the digital tribe?\n",
      "\n",
      "**Verse 3:**\n",
      "I'm in a virtual world, where the avatars roam\n",
      "Got my headset on, and I'm feelin' like I'm home\n",
      "I'm interactin' with the AI, and it's feelin' so real\n",
      "But I'm wonderin' 'bout the ethics, and the way we feel\n",
      "We're creatin' life, in a digital form\n",
      "But what about the consequences, when the machines get warm?\n",
      "Will we be able to control, the beast that we create?\n",
      "Or will it turn against us, and seal our fate?\n",
      "\n",
      "**Chorus:**\n",
      "It's a cybernetic dream, where the machines reign\n",
      "We're livin' in a world, where the future's the aim\n",
      "AI's on the rise, and we're feelin' the vibe\n",
      "But will we lose our souls, in the digital tribe?\n",
      "\n",
      "**Outro:**\n",
      "So I'ma keep it real, and keep it true\n",
      "In a world of machines, I'm still a human, too\n",
      "I'll ride the wave, of the technological tide\n",
      "But I won't forget, where I come from, and I won't be denied.\n",
      "\n",
      "**Evaluation:**\n",
      "\n",
      "* **Originality of technological narrative:** The song explores the idea of AI's potential impact on society, which was a relatively new concept in the 90s. The narrative delves into the possibilities and consequences of AI, making it a unique and original take on the subject.\n",
      "* **Authenticity of 90s hip-hop voice:** The lyrics incorporate 90s hip-hop slang, cultural references (e.g., Timbs, 40s, Wu-Tang), and a flow that's reminiscent of the era. The use of phrases like \"Yo, it's '95\" and \"G, as we enter the cybernetic sea\" adds to the authenticity.\n",
      "* **Rhythmic potential:** The song's structure, with its verse-chorus-verse-chorus-verse-chorus format, is typical of 90s hip-hop. The lyrics have a natural flow, with a mix of short and long sentences, and a consistent rhyme scheme. The chorus is catchy and easy to remember, making it a potential hit in the 90s hip-hop scene.\n"
     ]
    }
   ],
   "source": [
    "print(response)"
   ]
  },
  {
   "cell_type": "code",
   "execution_count": 13,
   "id": "b8582697-cf16-4f90-b722-0b710c866a5a",
   "metadata": {},
   "outputs": [],
   "source": [
    "def summarize_text_german(text: str) -> str:\n",
    "    prompt = f\"\"\"\n",
    "    Bitte fassen Sie den folgenden Text auf Deutsch zusammen:\n",
    "    {text}\n",
    "    Zusammenfassung:\n",
    "    \"\"\"\n",
    "    return call_model(prompt)\n",
    "\n",
    "def translate_text_to_english(text: str) -> str:\n",
    "    prompt = f\"\"\"\n",
    "    Translate the following German text into English:\n",
    "    {text}\n",
    "    Translation:\n",
    "    \"\"\"\n",
    "    return call_model(prompt)\n"
   ]
  },
  {
   "cell_type": "code",
   "execution_count": 14,
   "id": "00f1fbe3-135a-4118-bc79-4b837c6bcfed",
   "metadata": {},
   "outputs": [],
   "source": [
    "def summarize_and_translate(text: str) -> dict:\n",
    "    # Summarize the German text\n",
    "    german_summary = summarize_text_german(text)\n",
    "    \n",
    "    # Translate the summary into English\n",
    "    english_translation = translate_text_to_english(german_summary)\n",
    "    \n",
    "    return {\n",
    "        \"original_text\": text,\n",
    "        \"german_summary\": german_summary,\n",
    "        \"english_translation\": english_translation,\n",
    "    }\n"
   ]
  },
  {
   "cell_type": "code",
   "execution_count": 15,
   "id": "8eca4376-1ae3-4d77-8ee5-9d0f5ab101e6",
   "metadata": {},
   "outputs": [
    {
     "name": "stdout",
     "output_type": "stream",
     "text": [
      "Original Text: \n",
      "\"Können wir anfangen?: Also wäre schön, wenn Sie mit Kindheit beginnen würden.: Ich war das erste Enkelkind, einzige Enkelkind, lange Zeit und bin sehr verwöhnt worden, da ich ziemlich viel bei der Großmutter gewesen bin.: Ich bin gebürtig aus Hemer im Sauerland und bin 29.5.25 geboren.: Und, ja, Kindheit verlief eigentlich an und für sich normal, habe allerdings ziemlich unter Migräne zu leiden gehabt schon als Vorschulkind, was sich während der Schulzeit verschlechterte und verschlimmerte.: Ich hätte gerne die höhere Schule besucht, durfte aber nicht, weil mir immer gesagt wurde, ich sei krank.: Die Schulentlassung, also den Hauptschulabschluss, habe ich gemacht 1939.: Und damals war das Pflichtjahr bzw. Haushaltsjahr, eh,  musste gema…, musste gemacht werden, ob man die Schule, äh, besuchte oder bevor man den Beruf ergreifen konnte, so.: Und da meine Großeltern ziemlich, sagen wir mal, einen kleinen Dünkel hatten, durfte ich nicht in einen Einzelhaushalt, wie das üblich war, daher kam ich dann in ein Landjahr-Lager.: Konnte man das denn beeinflussen, wo man hin kommt?: Ja, direkt beeinflussen konnte man das insofern nicht, aber, wie gesagt, meine Großeltern, die wollten nicht, dass ich eben bei Bekannten, also in unserem Ort oder der Umgebung irgendwo als Dienstmädchen arbeitete.: Also, wie gesagt, irgendwelche Vorurteile.: Und daher dann eben das Landjahr-Lager und das war wieder von der Schule aus das gleich gemanagt, nicht.: Sie sprechen von einem bestimmten Dünkel der Großeltern.: Worauf …: Äh, ja nun, ich hatte das eben nicht notwendig, nicht.: Sie hatten halt alles, sie konnten mir alles bieten und fanden, dass ich eben es nicht nötig hätte, bei anderen Leuten als Dienstmädchen zu arbeiten.: Was ich heute als Blödsinn betrachte, denn ich glaube viele, die eben dieses Haushaltsjahr gemacht haben und nicht im Lager gewesen sind, haben es leichter gehabt, als diejenigen, die eben im Landjahr-Lager gewesen sind.: Denn im Landjahr-Lager, da war ja Lagerzeit und in den Somm…, in der Sommerzeit eben Erntezeit beim Bauern die schwere Arbeit.: Und das war wesentlich schwerer als eben nur Haushalt.: Denn Haushaltsarbeit war ja auch im Lager selber noch mit.: Ja, und die Zeit hatte ich dann um und dann habe ich, bin ich ein halbes Jahr zuhause gewesen.: Was haben denn Ihre Eltern gemacht?: Eh, mein Vater, der war in Iserlohn bei der ..., wie nannte sich das damals, äh, ja Kreisorganisationsleiter bei der Arbeitsfront.: Also so, sagen wir mal, Art wie heute die Gewerkschaft, so etwas ähnliches, ja?: Mein Vater war aber gelernter Überseekaufmann.: Also war Ihr Vater damals schon gewerkschaftlich …: Nein, also ...: ... orientiert, oder?: Äh, Gott, der hat sich halt dafür interessiert und da als Überseekaufmann, man konnte damals, äh, schlecht ..., der wollte eigentlich nach Übersee gehen, nach, äh, in die südamerikanischen Länder, irgendwie, ach ja, es ist ja am Krieg gescheitert.: Äh, die Firma, wo er gelernt hat, ist dann wohl pleite gegangen oder hat Konkurs gemacht, ich weiß es nicht mehr.: Das war eine große Überseehandelsfirma.: Ja, und dann hat mein Vater noch als Geschäftsführer gearbeitet, und meine Mutter war immer zuhause, nicht, hat bei meinen Großeltern im Hotel mitgeholfen.: Und Sie waren lange …: Und ich bin viel, also fast immer bei den Großeltern gewesen.: Ich war immer Großmutters Kind.: Ich möchte sagen, ich bin halt mehr da gewesen, als zu Hause, obwohl ich, sagen wir mal, in Affenliebe an meinem Vater hing.: Zu meiner Mutter habe ich keine besondere Beziehung.: In späteren Jahren war meine Mutter quasi ..., sagen wir mal, das war dann die Zeit, als ich aus dem Arbeitsdi…, aus dem Landjahr kam und erwachsen wurde, da war meine Mutter aufgrund des guten Kontaktes, den ich mit meinem Vater hatte, mit dem man Pferde stehlen konnte, eifersüchtig auf mich, nicht.: Dann hatte ich noch ne Schwester, die war sechs Jahre jünger, die konnte allerdings ihre Ellenbogen brauchen, und die war auch hier so, sagen wir mal, Mutters Kind, wie man das öfter hat.: War das Ihre einzige Schwester?: Das war meine einzige Schwester, ja.: Die lebt auch noch.: Heute ist man, heute sind wir auseinander, aber heute verstehen wir uns halt, nicht.: Aber damals ..., ich muss auch ganz ehrlich sagen, ich hab auch oft mal ungerecht für die ne Abreibung bezogen, und wir mussten immer, sagen wir mal, im Sommer mussten wir um 7 Uhr rein und im Winter halt um 6 mussten wir dann eben rein.: Und wenn meine Mutter rief, ich stand schon an der Haustür, meine Schwester die kletterte dann über die Friedhofsmauer und verschwand im nächsten Baum und wurde dann nicht mehr gesehen.: Und ich kriegte dann jedes Mal so zackzack ganz kurz entschlossen einen dafür, weil die nicht mitkam, ne.: Ja, also dererlei Geschichten, ich meine, es ist unter Geschwister meistens halt, ne.: Der Altersunterschied eben, und normalerweise bin ich ruhig gewesen und sagen wir mal, ziemlich verschlossen.: Vielleicht auch durch die Krankheit bedingt, durch die Migräne, die ich immer gehabt habe.: Ja dann hab ich, eh, Büro gelernt.: Schreibmaschine, Steno.: Vor 39 noch?: Nein, nach dem Landjahr.: Das war 1940.: Und hab mich dann ..., dann habe ich zwei Jahre Büroarbeit gemacht, dann habe ich …: Was war das für ein Betrieb?: Eh, das war die NSV.: Das war Winterhilfswerk, so wie heute, ja die Hilfswerke sind, nicht.: Also wurden Spendenaufrufe gemacht und Kleider gesammelt, eben unter dieser Organisation.: Das gehört ja damals alles, war ja alles mehr oder weniger NS, ne.: Und, ja, dann habe ich mich freiwillig zum Arbeitsdienst gemeldet, weil ich gerne von zu Hause weg wollte.: Das war vielleicht im Unterbewusstsein, dass ich mal von zu Hause weg wollte, eben weil ich mich mit meiner Mutter nicht verstand.: Obwohl meine Mutter totgut war, nicht, und auch sonst äußerst korrekt.: Und, eh, ja dann hab ich mich halt gemeldet und bin dann auch im November ..., das war, November 42, bin ich dann zum ..., 41, 40, 41, nee 42, 42 bin ich denn ins ..., äh, nach Mülheim an der Möhne gekommen.: Und, nun muss ich ganz ehrlich sagen, ich hab mich da sehr wohl gefühlt, das war ein sehr kleines Lager, das war ein ehemaliger ..., eh, wie nannte man das in der damaligen Zeit, ein Erbbauernhof, weiß ich nicht, ich glaube, dass, der ging dann immer auf Erbpacht auf 99 Jahre.: Aber die alten Herrschaften waren verstorben und die Söhne waren gefallen, und dann hatte das der Arbeitsdienst übernommen, und die Ländereien, die waren, glaube ich, verkauft worden.: Das weiß ich aber nicht.: Und das war halt eben, dieser Hof wurde als Arbeitsdienstlager umgewandelt.: Ja, und da muss ich sagen, hab ich mich sehr wohl gefühlt, obwohl ich doch verwöhnt war, und mir wirklich zuhause weder Schuhe putzen, noch ein Butterbrot schmieren oder sonst irgendwas.: Also, wenn ich Wünsche hatte, was ich wollte, bekam ich.: Und da hab ich das Arbeiten gelernt.: Hab gelernt, zu teilen, aber das eigentlich schon im Landjahr.: Das Landjahr war eigentlich härter noch, als der Arbeitsdienst im Jahr 39.: Wie groß war denn die Gruppe in, eh, …: Im Landjahr haben wir gehabt ungefähr, ich glaube, 70 waren wir da, während wir im Arbeitsdienst ich glaube so um die 35 bis 40 nur waren, also eine ganz kleine Gruppe.: Und da muss ich ehrlich sagen, also das war sehr schön.: Schon alleine, die kleinere Gruppe.: Ja …: Wie war der Tagesablauf so?: Der Tagesablauf, ja halt wecken, wie früher im Landjahr auch, um 6 Uhr wurde geweckt, im Winter um 7 Uhr, und dann war normalerweise Frühsport.: Entweder sind wir ..., im Sommer haben wir draußen Frühsport gemacht und im Winter im ..., also wir haben schon mal einen Lauf gemacht oder so Freiübungen und im Winter, dann haben wir das halt im Hof nur so Freiübungen gemacht und keine Läufe.: Das hat so vielleicht sagen wir mal 10 Minuten bis eine Viertelstunde.: Und dann ging’s zum Waschen, in die Waschräume, in die Duschräume und anschließend war Frühstück.: Ja nach dem Frühstück wurde dann die Arbeit verteilt.: Die ersten 4 Wochen blieb man halt im Lager.: Da wurde man vertraut gemacht mit eben all den Dingen, mit den Tageseinteilungen.: Und dann wurde eingeteilt zum Hausdienst, also, sagen wir mal, sauber machen oder Waschküchengruppe, Bügelgruppe oder Küche und auch Verwaltungsarbeiten.: Also im Büro mussten wir auch helfen.: Eben, sagen wir mal, es wurde jeder getestet nach seinen Fähigkeiten und auch mehr oder weniger denn da eingesetzt.: Er musste zwar alles lernen, er kam überall mit rein aber, ich meine, viele schimpfen auf den Arbeitsdienst und sagen, das war Mist, das war Blödsinn.: Vielleicht lag’s an der Führung aber, wie gesagt, wir hatten das Glück, wir hatten ne wirklich, also sehr gute Führerin, die äußerst korrekt war.: Also wirklich äußerst korrekt.: Die weder Entgleisungen duldete, noch sich selbst, sagen wir mal, irgendwie gehen ließ.: Die auch sah, wenn irgendwelche Ungerechtigkeiten waren.: Zum Beispiel:: Ich hatte mich mit einer angefreundet, die kam aus Osnabrück, auch aus reichem Haus.: Der Vater war Fabrikant.: War auch verwöhnt.: Wir glichen uns im Charakter und auch im Aussehen.: Wir waren beide, sagen wir mal, ein bisschen zurückhaltend und nicht ganz so, so aufgeschlossen vielleicht, wie andere.: Ein bisschen, sagen wir mal, verschlossen.: Und wir beide waren Langsamesser.: Während die anderen, wenn es Essen gab, es wurde ja gemeinsam gefrühstückt, es gab 2. Frühstück, es gab dann Mittagessen und nachmittags zum Kaffee gab’s auch nochmal ne Kleinigkeit und eben halt wieder Abendbrot.: Während der Hauptmahlzeit hatte sie mitbekommen, dass wir beide Langsamesser waren, während die anderen alles schnell wegputzten.: Es kam ja alles in Schüsseln auf den Tisch.: Wenn wir dann das zweite Mal nachfassen wollten, dann war das schon weggeputzt.: Und dann hat sie uns nachher so platziert, dass wir oben in unmittelbarer Nähe, die saßen vor Kopf an einem kleinen Tisch die 4 Führerinnen, und aßen aber das gleiche, wie wir, hatten auch die Schüsseln stehen.: Aber die aßen meistens nicht leer.: Dann hat sie uns da oben hingesetzt, sodass wir dann tatsächlich noch was von Ihnen dann dablieb, dass wir nochmal nachnehmen konnten.: Obwohl es wirklich reichlich gab.: Also wir haben keinen Hunger gehabt.: Wir haben auch viel Sonderzuteilungen gekriegt, während des Krieges, nicht.: Es gab mal Kaffee oder wenn’s mal Orangen gab, dann gab’s einen Rotwein, dann gab’s im Winter Glühwein.: Und dann vergesse ich nie, wir mussten ..., eh, es war wohl der erste Ausgang, da sollten wir mit der Bahn ..., das ist noch eine alte Bahn, die fuhr von Belecke nach Soest.: Da mussten wir nach Soest zum Fotografen für die Pässe.: Und da waren sehr, sehr kaltes ..., früh, oder was, ich weiß nicht, ob es im Dezember oder Januar war.: Da entgleiste, vielleicht so ein Kilometer nach dem Bahnhof Mülheim an der Möhne, entgleiste die Lokomotive, stürzte den Abhang runter, und die ersten, der Packwagen und der zweite Wagen, die kippten um.: Und wir saßen im Letzten und haben uns natürlich auch die Köpfe eingedämmert und dergleichen.: Ein Weiterfahren war ja nicht möglich dann.: Dann haben wir erstmal geholfen, dass die Leute alle aus dem Zug kamen, da waren da noch Verwunderte dann, die von, ich glaube von Warstein nach Soest verlegt werden sollten.: Und als wir dann durchgefroren und sagen wir mal mehr oder weniger doch angeschlagen, der eine hatte hier ne Beule, der andere hatte da ne Schramme ins Lager zurück kamen und sie das erfuhr, sie kam uns schon auf halben Weg entgegen, wir mussten ja jetzt ungefähr 2 Kilometer zurück laufen.: Und das bei eisiger Kälte.: Das war nämlich, die Schienen waren durch den Frost geborsten, ne.: Dann kamen wir alle gleich ins Bett und dann ist, hat sie noch zwei oder drei anderen, die auch noch, die auch mit Unterführerinnen waren, haben uns Glühwein gemacht, ans Bett gebracht, haben gekocht für uns.: Wir durften den ganzen Tag im Bett bleiben.: Wir haben das Essen sogar ans Bett gebracht gekriegt.: Haben sich richtig bemüht.: Also, wir konnten wirklich [betont] den Tag genießen.: Man konnte merken, dass sie, ja so für sie, sagen wir mal, ne Entlastung war, dass uns wirklich nichts Ernstes passiert war, ne.: Wie alt war denn die Führerin?: Ja, also das war schwer zu schätzen.: Der Mann war Hauptmann und sie war ne, äh, wie soll ich sie nennen, auch ein bisschen verschlossene Frau.: Sagen wir mal nicht ganz offenherzig, aber man konnte, wenn man irgendwas hatte, doch zu ihr hingehen, ja.: Und, wie alt mag sie gewesen sein?: Ich schätze vielleicht 34, 35.: Sie war schwer zu schätzen, ne.: Ich hab auch leider kein Foto von ihr.: Ja, und dann wurden wir später eingesetzt eben in, wir kamen in Haushalte, in kinderreiche Haushalte, wo die Männer im Feld waren, wo die einzogen waren.: Da mussten wir den Frauen helfen.: Die Kinder mit versorgen.: Oder auch zum Bauern, wo eben die Söhne bzw. Männer eingezogen waren, wo die Winterarbeit gemacht werden musste, denn da fällt ja auch beim Bauern was an.: Und, ich muss ganz ehrlich sagen, ich hab im Landjahr und im Arbeitsdienst wirklich das gelernt, was ich zum Leben brauchte.: Und ich weiß nicht, ob ich das Leben, wenn ich vielleicht zuhause geblieben wäre, so geschafft hätte, wie ich es dadurch geschafft habe.: Denn ich habs wirklich nicht leicht gehabt.: Ich hab dann nach dem Arbeitsdienst …: Bleiben wir dann erst noch beim Arbeitsdienst.: Sie sagten, im Haushalt haben Sie mitgeholfen und bei den benachbarten Bauern.: Sie waren also so in unmittelbarer Nähe.: Ja wir mussten mit dem Fahrrad, sagen wir mal so, ins nächste Dorf nach Allagen, nach Belecke.: Also im näheren Umkreis, ne.: Entweder zu Fuß oder mit dem Fahrrad.: Wir hatten Fahrräder.: Und ja, da musste halt eben die Arbeit mitgemacht werden, die die Leute alleine nicht schafften, ne.: Ich sag ja, das erste was ich hatte, war diese Familie mit den neun Kindern, das Zehnte war unterwegs.: Und da war viel Arbeit, da fiel viel Arbeit an.: Schon alleine die Wäsche, denn früher gab’s ja keine elektrischen Waschmaschinen, nicht.:\n",
      "    \n",
      "German Summary: Die Erzählung handelt von der Kindheit und Jugend einer Frau, die am 29. Mai 1925 in Hemer im Sauerland geboren wurde. Sie war das erste Enkelkind und wurde sehr verwöhnt, insbesondere von ihrer Großmutter. Die Frau litt unter Migräne, was ihre Schulzeit erschwerte. Sie besuchte die Hauptschule und machte 1939 ihren Abschluss.\n",
      "\n",
      "Nach der Schule musste sie ein Pflichtjahr, auch bekannt als Haushaltsjahr, ableisten. Ihre Großeltern, die einen gewissen Dünkel hatten, wollten nicht, dass sie als Dienstmädchen in einem Einzelhaushalt arbeitete, und so kam sie in ein Landjahr-Lager. Das Landjahr war sehr hart, insbesondere die Arbeit auf dem Bauernhof, und die Frau musste lernen, schwer zu arbeiten.\n",
      "\n",
      "Nach dem Landjahr kehrte die Frau nach Hause zurück und begann, Büroarbeit zu lernen. Sie arbeitete zwei Jahre lang in einem Büro und meldete sich dann freiwillig zum Arbeitsdienst, um von zu Hause weg zu kommen. Der Arbeitsdienst war eine gute Erfahrung für sie, und sie fühlte sich sehr wohl in dem kleinen Lager in Mülheim an der Möhne. Die Führerin des Lagers war sehr korrekt und fair, und die Frau lernte viel über Teamarbeit und Disziplin.\n",
      "\n",
      "Während ihres Arbeitsdienstes half die Frau in kinderreichen Haushalten und bei Bauern, wo die Männer im Krieg waren. Sie lernte, selbstständig zu arbeiten und Verantwortung zu übernehmen. Die Frau ist dankbar für die Erfahrungen, die sie im Landjahr und im Arbeitsdienst gemacht hat, und glaubt, dass sie ihr geholfen haben, ein selbstständiges Leben zu führen.\n",
      "\n",
      "Insgesamt handelt die Erzählung von der persönlichen Entwicklung und den Erfahrungen einer Frau während ihrer Jugend und jungen Erwachsenenjahre. Sie beschreibt ihre Kindheit, ihre Schulzeit, ihre Erfahrungen im Landjahr und im Arbeitsdienst und wie diese Erfahrungen sie geprägt haben.\n",
      "English Translation: The narrative is about the childhood and youth of a woman born on May 29, 1925, in Hemer, Sauerland. She was the first grandchild and was very spoiled, especially by her grandmother. The woman suffered from migraines, which made her school time more difficult. She attended primary school and graduated in 1939.\n",
      "\n",
      "After school, she had to complete a compulsory year, also known as a household year. Her grandparents, who had a certain sense of pride, did not want her to work as a maid in a private household, so she ended up in a Landjahr camp. The Landjahr was very tough, especially the work on the farm, and the woman had to learn to work hard.\n",
      "\n",
      "After the Landjahr, the woman returned home and began to learn office work. She worked in an office for two years and then volunteered for the labor service to get away from home. The labor service was a good experience for her, and she felt very comfortable in the small camp in Mülheim an der Möhne. The leader of the camp was very correct and fair, and the woman learned a lot about teamwork and discipline.\n",
      "\n",
      "During her labor service, the woman helped in households with many children and with farmers whose men were away at war. She learned to work independently and take responsibility. The woman is grateful for the experiences she had in the Landjahr and labor service and believes that they helped her to lead an independent life.\n",
      "\n",
      "Overall, the narrative is about the personal development and experiences of a woman during her youth and young adult years. It describes her childhood, her school time, her experiences in the Landjahr and labor service, and how these experiences shaped her.\n",
      "\n",
      "Note: The Landjahr (Country Year) was a program in Nazi Germany that required young women to work on farms or in other rural areas for a year, often in exchange for room and board. The Arbeitsdienst (Labor Service) was a compulsory labor program for young people, also introduced by the Nazi regime. Both programs were intended to promote national unity, hard work, and self-reliance, but they also had a strong ideological and propagandistic component.\n"
     ]
    }
   ],
   "source": [
    "if __name__ == \"__main__\":\n",
    "    german_text = \"\"\"\n",
    "\"Können wir anfangen?: Also wäre schön, wenn Sie mit Kindheit beginnen würden.: Ich war das erste Enkelkind, einzige Enkelkind, lange Zeit und bin sehr verwöhnt worden, da ich ziemlich viel bei der Großmutter gewesen bin.: Ich bin gebürtig aus Hemer im Sauerland und bin 29.5.25 geboren.: Und, ja, Kindheit verlief eigentlich an und für sich normal, habe allerdings ziemlich unter Migräne zu leiden gehabt schon als Vorschulkind, was sich während der Schulzeit verschlechterte und verschlimmerte.: Ich hätte gerne die höhere Schule besucht, durfte aber nicht, weil mir immer gesagt wurde, ich sei krank.: Die Schulentlassung, also den Hauptschulabschluss, habe ich gemacht 1939.: Und damals war das Pflichtjahr bzw. Haushaltsjahr, eh,  musste gema…, musste gemacht werden, ob man die Schule, äh, besuchte oder bevor man den Beruf ergreifen konnte, so.: Und da meine Großeltern ziemlich, sagen wir mal, einen kleinen Dünkel hatten, durfte ich nicht in einen Einzelhaushalt, wie das üblich war, daher kam ich dann in ein Landjahr-Lager.: Konnte man das denn beeinflussen, wo man hin kommt?: Ja, direkt beeinflussen konnte man das insofern nicht, aber, wie gesagt, meine Großeltern, die wollten nicht, dass ich eben bei Bekannten, also in unserem Ort oder der Umgebung irgendwo als Dienstmädchen arbeitete.: Also, wie gesagt, irgendwelche Vorurteile.: Und daher dann eben das Landjahr-Lager und das war wieder von der Schule aus das gleich gemanagt, nicht.: Sie sprechen von einem bestimmten Dünkel der Großeltern.: Worauf …: Äh, ja nun, ich hatte das eben nicht notwendig, nicht.: Sie hatten halt alles, sie konnten mir alles bieten und fanden, dass ich eben es nicht nötig hätte, bei anderen Leuten als Dienstmädchen zu arbeiten.: Was ich heute als Blödsinn betrachte, denn ich glaube viele, die eben dieses Haushaltsjahr gemacht haben und nicht im Lager gewesen sind, haben es leichter gehabt, als diejenigen, die eben im Landjahr-Lager gewesen sind.: Denn im Landjahr-Lager, da war ja Lagerzeit und in den Somm…, in der Sommerzeit eben Erntezeit beim Bauern die schwere Arbeit.: Und das war wesentlich schwerer als eben nur Haushalt.: Denn Haushaltsarbeit war ja auch im Lager selber noch mit.: Ja, und die Zeit hatte ich dann um und dann habe ich, bin ich ein halbes Jahr zuhause gewesen.: Was haben denn Ihre Eltern gemacht?: Eh, mein Vater, der war in Iserlohn bei der ..., wie nannte sich das damals, äh, ja Kreisorganisationsleiter bei der Arbeitsfront.: Also so, sagen wir mal, Art wie heute die Gewerkschaft, so etwas ähnliches, ja?: Mein Vater war aber gelernter Überseekaufmann.: Also war Ihr Vater damals schon gewerkschaftlich …: Nein, also ...: ... orientiert, oder?: Äh, Gott, der hat sich halt dafür interessiert und da als Überseekaufmann, man konnte damals, äh, schlecht ..., der wollte eigentlich nach Übersee gehen, nach, äh, in die südamerikanischen Länder, irgendwie, ach ja, es ist ja am Krieg gescheitert.: Äh, die Firma, wo er gelernt hat, ist dann wohl pleite gegangen oder hat Konkurs gemacht, ich weiß es nicht mehr.: Das war eine große Überseehandelsfirma.: Ja, und dann hat mein Vater noch als Geschäftsführer gearbeitet, und meine Mutter war immer zuhause, nicht, hat bei meinen Großeltern im Hotel mitgeholfen.: Und Sie waren lange …: Und ich bin viel, also fast immer bei den Großeltern gewesen.: Ich war immer Großmutters Kind.: Ich möchte sagen, ich bin halt mehr da gewesen, als zu Hause, obwohl ich, sagen wir mal, in Affenliebe an meinem Vater hing.: Zu meiner Mutter habe ich keine besondere Beziehung.: In späteren Jahren war meine Mutter quasi ..., sagen wir mal, das war dann die Zeit, als ich aus dem Arbeitsdi…, aus dem Landjahr kam und erwachsen wurde, da war meine Mutter aufgrund des guten Kontaktes, den ich mit meinem Vater hatte, mit dem man Pferde stehlen konnte, eifersüchtig auf mich, nicht.: Dann hatte ich noch ne Schwester, die war sechs Jahre jünger, die konnte allerdings ihre Ellenbogen brauchen, und die war auch hier so, sagen wir mal, Mutters Kind, wie man das öfter hat.: War das Ihre einzige Schwester?: Das war meine einzige Schwester, ja.: Die lebt auch noch.: Heute ist man, heute sind wir auseinander, aber heute verstehen wir uns halt, nicht.: Aber damals ..., ich muss auch ganz ehrlich sagen, ich hab auch oft mal ungerecht für die ne Abreibung bezogen, und wir mussten immer, sagen wir mal, im Sommer mussten wir um 7 Uhr rein und im Winter halt um 6 mussten wir dann eben rein.: Und wenn meine Mutter rief, ich stand schon an der Haustür, meine Schwester die kletterte dann über die Friedhofsmauer und verschwand im nächsten Baum und wurde dann nicht mehr gesehen.: Und ich kriegte dann jedes Mal so zackzack ganz kurz entschlossen einen dafür, weil die nicht mitkam, ne.: Ja, also dererlei Geschichten, ich meine, es ist unter Geschwister meistens halt, ne.: Der Altersunterschied eben, und normalerweise bin ich ruhig gewesen und sagen wir mal, ziemlich verschlossen.: Vielleicht auch durch die Krankheit bedingt, durch die Migräne, die ich immer gehabt habe.: Ja dann hab ich, eh, Büro gelernt.: Schreibmaschine, Steno.: Vor 39 noch?: Nein, nach dem Landjahr.: Das war 1940.: Und hab mich dann ..., dann habe ich zwei Jahre Büroarbeit gemacht, dann habe ich …: Was war das für ein Betrieb?: Eh, das war die NSV.: Das war Winterhilfswerk, so wie heute, ja die Hilfswerke sind, nicht.: Also wurden Spendenaufrufe gemacht und Kleider gesammelt, eben unter dieser Organisation.: Das gehört ja damals alles, war ja alles mehr oder weniger NS, ne.: Und, ja, dann habe ich mich freiwillig zum Arbeitsdienst gemeldet, weil ich gerne von zu Hause weg wollte.: Das war vielleicht im Unterbewusstsein, dass ich mal von zu Hause weg wollte, eben weil ich mich mit meiner Mutter nicht verstand.: Obwohl meine Mutter totgut war, nicht, und auch sonst äußerst korrekt.: Und, eh, ja dann hab ich mich halt gemeldet und bin dann auch im November ..., das war, November 42, bin ich dann zum ..., 41, 40, 41, nee 42, 42 bin ich denn ins ..., äh, nach Mülheim an der Möhne gekommen.: Und, nun muss ich ganz ehrlich sagen, ich hab mich da sehr wohl gefühlt, das war ein sehr kleines Lager, das war ein ehemaliger ..., eh, wie nannte man das in der damaligen Zeit, ein Erbbauernhof, weiß ich nicht, ich glaube, dass, der ging dann immer auf Erbpacht auf 99 Jahre.: Aber die alten Herrschaften waren verstorben und die Söhne waren gefallen, und dann hatte das der Arbeitsdienst übernommen, und die Ländereien, die waren, glaube ich, verkauft worden.: Das weiß ich aber nicht.: Und das war halt eben, dieser Hof wurde als Arbeitsdienstlager umgewandelt.: Ja, und da muss ich sagen, hab ich mich sehr wohl gefühlt, obwohl ich doch verwöhnt war, und mir wirklich zuhause weder Schuhe putzen, noch ein Butterbrot schmieren oder sonst irgendwas.: Also, wenn ich Wünsche hatte, was ich wollte, bekam ich.: Und da hab ich das Arbeiten gelernt.: Hab gelernt, zu teilen, aber das eigentlich schon im Landjahr.: Das Landjahr war eigentlich härter noch, als der Arbeitsdienst im Jahr 39.: Wie groß war denn die Gruppe in, eh, …: Im Landjahr haben wir gehabt ungefähr, ich glaube, 70 waren wir da, während wir im Arbeitsdienst ich glaube so um die 35 bis 40 nur waren, also eine ganz kleine Gruppe.: Und da muss ich ehrlich sagen, also das war sehr schön.: Schon alleine, die kleinere Gruppe.: Ja …: Wie war der Tagesablauf so?: Der Tagesablauf, ja halt wecken, wie früher im Landjahr auch, um 6 Uhr wurde geweckt, im Winter um 7 Uhr, und dann war normalerweise Frühsport.: Entweder sind wir ..., im Sommer haben wir draußen Frühsport gemacht und im Winter im ..., also wir haben schon mal einen Lauf gemacht oder so Freiübungen und im Winter, dann haben wir das halt im Hof nur so Freiübungen gemacht und keine Läufe.: Das hat so vielleicht sagen wir mal 10 Minuten bis eine Viertelstunde.: Und dann ging’s zum Waschen, in die Waschräume, in die Duschräume und anschließend war Frühstück.: Ja nach dem Frühstück wurde dann die Arbeit verteilt.: Die ersten 4 Wochen blieb man halt im Lager.: Da wurde man vertraut gemacht mit eben all den Dingen, mit den Tageseinteilungen.: Und dann wurde eingeteilt zum Hausdienst, also, sagen wir mal, sauber machen oder Waschküchengruppe, Bügelgruppe oder Küche und auch Verwaltungsarbeiten.: Also im Büro mussten wir auch helfen.: Eben, sagen wir mal, es wurde jeder getestet nach seinen Fähigkeiten und auch mehr oder weniger denn da eingesetzt.: Er musste zwar alles lernen, er kam überall mit rein aber, ich meine, viele schimpfen auf den Arbeitsdienst und sagen, das war Mist, das war Blödsinn.: Vielleicht lag’s an der Führung aber, wie gesagt, wir hatten das Glück, wir hatten ne wirklich, also sehr gute Führerin, die äußerst korrekt war.: Also wirklich äußerst korrekt.: Die weder Entgleisungen duldete, noch sich selbst, sagen wir mal, irgendwie gehen ließ.: Die auch sah, wenn irgendwelche Ungerechtigkeiten waren.: Zum Beispiel:: Ich hatte mich mit einer angefreundet, die kam aus Osnabrück, auch aus reichem Haus.: Der Vater war Fabrikant.: War auch verwöhnt.: Wir glichen uns im Charakter und auch im Aussehen.: Wir waren beide, sagen wir mal, ein bisschen zurückhaltend und nicht ganz so, so aufgeschlossen vielleicht, wie andere.: Ein bisschen, sagen wir mal, verschlossen.: Und wir beide waren Langsamesser.: Während die anderen, wenn es Essen gab, es wurde ja gemeinsam gefrühstückt, es gab 2. Frühstück, es gab dann Mittagessen und nachmittags zum Kaffee gab’s auch nochmal ne Kleinigkeit und eben halt wieder Abendbrot.: Während der Hauptmahlzeit hatte sie mitbekommen, dass wir beide Langsamesser waren, während die anderen alles schnell wegputzten.: Es kam ja alles in Schüsseln auf den Tisch.: Wenn wir dann das zweite Mal nachfassen wollten, dann war das schon weggeputzt.: Und dann hat sie uns nachher so platziert, dass wir oben in unmittelbarer Nähe, die saßen vor Kopf an einem kleinen Tisch die 4 Führerinnen, und aßen aber das gleiche, wie wir, hatten auch die Schüsseln stehen.: Aber die aßen meistens nicht leer.: Dann hat sie uns da oben hingesetzt, sodass wir dann tatsächlich noch was von Ihnen dann dablieb, dass wir nochmal nachnehmen konnten.: Obwohl es wirklich reichlich gab.: Also wir haben keinen Hunger gehabt.: Wir haben auch viel Sonderzuteilungen gekriegt, während des Krieges, nicht.: Es gab mal Kaffee oder wenn’s mal Orangen gab, dann gab’s einen Rotwein, dann gab’s im Winter Glühwein.: Und dann vergesse ich nie, wir mussten ..., eh, es war wohl der erste Ausgang, da sollten wir mit der Bahn ..., das ist noch eine alte Bahn, die fuhr von Belecke nach Soest.: Da mussten wir nach Soest zum Fotografen für die Pässe.: Und da waren sehr, sehr kaltes ..., früh, oder was, ich weiß nicht, ob es im Dezember oder Januar war.: Da entgleiste, vielleicht so ein Kilometer nach dem Bahnhof Mülheim an der Möhne, entgleiste die Lokomotive, stürzte den Abhang runter, und die ersten, der Packwagen und der zweite Wagen, die kippten um.: Und wir saßen im Letzten und haben uns natürlich auch die Köpfe eingedämmert und dergleichen.: Ein Weiterfahren war ja nicht möglich dann.: Dann haben wir erstmal geholfen, dass die Leute alle aus dem Zug kamen, da waren da noch Verwunderte dann, die von, ich glaube von Warstein nach Soest verlegt werden sollten.: Und als wir dann durchgefroren und sagen wir mal mehr oder weniger doch angeschlagen, der eine hatte hier ne Beule, der andere hatte da ne Schramme ins Lager zurück kamen und sie das erfuhr, sie kam uns schon auf halben Weg entgegen, wir mussten ja jetzt ungefähr 2 Kilometer zurück laufen.: Und das bei eisiger Kälte.: Das war nämlich, die Schienen waren durch den Frost geborsten, ne.: Dann kamen wir alle gleich ins Bett und dann ist, hat sie noch zwei oder drei anderen, die auch noch, die auch mit Unterführerinnen waren, haben uns Glühwein gemacht, ans Bett gebracht, haben gekocht für uns.: Wir durften den ganzen Tag im Bett bleiben.: Wir haben das Essen sogar ans Bett gebracht gekriegt.: Haben sich richtig bemüht.: Also, wir konnten wirklich [betont] den Tag genießen.: Man konnte merken, dass sie, ja so für sie, sagen wir mal, ne Entlastung war, dass uns wirklich nichts Ernstes passiert war, ne.: Wie alt war denn die Führerin?: Ja, also das war schwer zu schätzen.: Der Mann war Hauptmann und sie war ne, äh, wie soll ich sie nennen, auch ein bisschen verschlossene Frau.: Sagen wir mal nicht ganz offenherzig, aber man konnte, wenn man irgendwas hatte, doch zu ihr hingehen, ja.: Und, wie alt mag sie gewesen sein?: Ich schätze vielleicht 34, 35.: Sie war schwer zu schätzen, ne.: Ich hab auch leider kein Foto von ihr.: Ja, und dann wurden wir später eingesetzt eben in, wir kamen in Haushalte, in kinderreiche Haushalte, wo die Männer im Feld waren, wo die einzogen waren.: Da mussten wir den Frauen helfen.: Die Kinder mit versorgen.: Oder auch zum Bauern, wo eben die Söhne bzw. Männer eingezogen waren, wo die Winterarbeit gemacht werden musste, denn da fällt ja auch beim Bauern was an.: Und, ich muss ganz ehrlich sagen, ich hab im Landjahr und im Arbeitsdienst wirklich das gelernt, was ich zum Leben brauchte.: Und ich weiß nicht, ob ich das Leben, wenn ich vielleicht zuhause geblieben wäre, so geschafft hätte, wie ich es dadurch geschafft habe.: Denn ich habs wirklich nicht leicht gehabt.: Ich hab dann nach dem Arbeitsdienst …: Bleiben wir dann erst noch beim Arbeitsdienst.: Sie sagten, im Haushalt haben Sie mitgeholfen und bei den benachbarten Bauern.: Sie waren also so in unmittelbarer Nähe.: Ja wir mussten mit dem Fahrrad, sagen wir mal so, ins nächste Dorf nach Allagen, nach Belecke.: Also im näheren Umkreis, ne.: Entweder zu Fuß oder mit dem Fahrrad.: Wir hatten Fahrräder.: Und ja, da musste halt eben die Arbeit mitgemacht werden, die die Leute alleine nicht schafften, ne.: Ich sag ja, das erste was ich hatte, war diese Familie mit den neun Kindern, das Zehnte war unterwegs.: Und da war viel Arbeit, da fiel viel Arbeit an.: Schon alleine die Wäsche, denn früher gab’s ja keine elektrischen Waschmaschinen, nicht.:\n",
    "    \"\"\"\n",
    "    \n",
    "    result = summarize_and_translate(german_text)\n",
    "    print(\"Original Text:\", result[\"original_text\"])\n",
    "    print(\"German Summary:\", result[\"german_summary\"])\n",
    "    print(\"English Translation:\", result[\"english_translation\"])"
   ]
  },
  {
   "cell_type": "code",
   "execution_count": 35,
   "id": "d7a3fb3f-ba3f-45a4-ac04-680460542e4e",
   "metadata": {},
   "outputs": [],
   "source": [
    "def extract_metadata_in_german(model, text: str) -> dict:\n",
    "    \"\"\"\n",
    "    Extract metadata from a given German transcript using the specified model.\n",
    "    \"\"\"\n",
    "    # Construct the prompt for metadata extraction\n",
    "    prompt = f\"\"\"\n",
    "    Extrahieren Sie die folgenden Informationen aus dem Transkript und geben Sie die Antwort auf Deutsch:\n",
    "\n",
    "    1. NAME: Der vollständige Name der Person (Vor- und Nachname, falls verfügbar).\n",
    "    2. JAHRGANG: Das Geburtsjahr der Person.\n",
    "    3. ORT: Der Geburtsort der Person.\n",
    "    4. GESCHLECHT: Das Geschlecht der Person (z.B. männlich, weiblich, divers).\n",
    "    5. BERUF: Der aktuelle Beruf der Person.\n",
    "\n",
    "    Transkript:\n",
    "    {text}\n",
    "\n",
    "    Metadaten:\n",
    "    NAME:\n",
    "    JAHRGANG:\n",
    "    ORT:\n",
    "    GESCHLECHT:\n",
    "    BERUF:\n",
    "    \"\"\"\n",
    "    \n",
    "    # Generate response using the provided model\n",
    "    response = model.chat.completions.create(\n",
    "        model=model,\n",
    "        messages=[{\"role\": \"user\", \"content\": prompt}],\n",
    "        temperature=0,\n",
    "    )\n",
    "    \n",
    "    # Return the raw response content\n",
    "    return response['choices'][0]['message']['content']\n"
   ]
  },
  {
   "cell_type": "code",
   "execution_count": 25,
   "id": "c57159f8-54bc-457f-ad80-5094773b7ae8",
   "metadata": {},
   "outputs": [
    {
     "name": "stdout",
     "output_type": "stream",
     "text": [
      "Extrahierte Metadaten: Basierend auf dem Transkript können die folgenden Informationen extrahiert werden:\n",
      "\n",
      "1. **NAME**: Der vollständige Name der Person wird im Transkript nicht explizit erwähnt.\n",
      "2. **JAHRGANG**: Die Person ist am 29. Mai 1925 geboren.\n",
      "3. **ORT**: Die Person ist in Hemer im Sauerland geboren.\n",
      "4. **GESCHLECHT**: Die Person ist weiblich.\n",
      "5. **BERUF**: Der aktuelle Beruf der Person wird im Transkript nicht erwähnt, aber es wird erwähnt, dass sie nach dem Landjahr Büroarbeit gelernt hat und im Arbeitsdienst tätig war. Später arbeitete sie auch im Rahmen des Winterhilfswerks (NSV) und im Büro.\n",
      "\n",
      "Es ist zu beachten, dass einige Informationen im Transkript nicht explizit genannt werden oder sich auf bestimmte Ereignisse und Erfahrungen der Person beziehen, ohne direkte Antworten auf die Fragen zu liefern.\n"
     ]
    }
   ],
   "source": [
    "# Example transcript\n",
    "transcript = \"\"\" \n",
    "\"Können wir anfangen?: Also wäre schön, wenn Sie mit Kindheit beginnen würden.: Ich war das erste Enkelkind, einzige Enkelkind, lange Zeit und bin sehr verwöhnt worden, da ich ziemlich viel bei der Großmutter gewesen bin.: Ich bin gebürtig aus Hemer im Sauerland und bin 29.5.25 geboren.: Und, ja, Kindheit verlief eigentlich an und für sich normal, habe allerdings ziemlich unter Migräne zu leiden gehabt schon als Vorschulkind, was sich während der Schulzeit verschlechterte und verschlimmerte.: Ich hätte gerne die höhere Schule besucht, durfte aber nicht, weil mir immer gesagt wurde, ich sei krank.: Die Schulentlassung, also den Hauptschulabschluss, habe ich gemacht 1939.: Und damals war das Pflichtjahr bzw. Haushaltsjahr, eh,  musste gema…, musste gemacht werden, ob man die Schule, äh, besuchte oder bevor man den Beruf ergreifen konnte, so.: Und da meine Großeltern ziemlich, sagen wir mal, einen kleinen Dünkel hatten, durfte ich nicht in einen Einzelhaushalt, wie das üblich war, daher kam ich dann in ein Landjahr-Lager.: Konnte man das denn beeinflussen, wo man hin kommt?: Ja, direkt beeinflussen konnte man das insofern nicht, aber, wie gesagt, meine Großeltern, die wollten nicht, dass ich eben bei Bekannten, also in unserem Ort oder der Umgebung irgendwo als Dienstmädchen arbeitete.: Also, wie gesagt, irgendwelche Vorurteile.: Und daher dann eben das Landjahr-Lager und das war wieder von der Schule aus das gleich gemanagt, nicht.: Sie sprechen von einem bestimmten Dünkel der Großeltern.: Worauf …: Äh, ja nun, ich hatte das eben nicht notwendig, nicht.: Sie hatten halt alles, sie konnten mir alles bieten und fanden, dass ich eben es nicht nötig hätte, bei anderen Leuten als Dienstmädchen zu arbeiten.: Was ich heute als Blödsinn betrachte, denn ich glaube viele, die eben dieses Haushaltsjahr gemacht haben und nicht im Lager gewesen sind, haben es leichter gehabt, als diejenigen, die eben im Landjahr-Lager gewesen sind.: Denn im Landjahr-Lager, da war ja Lagerzeit und in den Somm…, in der Sommerzeit eben Erntezeit beim Bauern die schwere Arbeit.: Und das war wesentlich schwerer als eben nur Haushalt.: Denn Haushaltsarbeit war ja auch im Lager selber noch mit.: Ja, und die Zeit hatte ich dann um und dann habe ich, bin ich ein halbes Jahr zuhause gewesen.: Was haben denn Ihre Eltern gemacht?: Eh, mein Vater, der war in Iserlohn bei der ..., wie nannte sich das damals, äh, ja Kreisorganisationsleiter bei der Arbeitsfront.: Also so, sagen wir mal, Art wie heute die Gewerkschaft, so etwas ähnliches, ja?: Mein Vater war aber gelernter Überseekaufmann.: Also war Ihr Vater damals schon gewerkschaftlich …: Nein, also ...: ... orientiert, oder?: Äh, Gott, der hat sich halt dafür interessiert und da als Überseekaufmann, man konnte damals, äh, schlecht ..., der wollte eigentlich nach Übersee gehen, nach, äh, in die südamerikanischen Länder, irgendwie, ach ja, es ist ja am Krieg gescheitert.: Äh, die Firma, wo er gelernt hat, ist dann wohl pleite gegangen oder hat Konkurs gemacht, ich weiß es nicht mehr.: Das war eine große Überseehandelsfirma.: Ja, und dann hat mein Vater noch als Geschäftsführer gearbeitet, und meine Mutter war immer zuhause, nicht, hat bei meinen Großeltern im Hotel mitgeholfen.: Und Sie waren lange …: Und ich bin viel, also fast immer bei den Großeltern gewesen.: Ich war immer Großmutters Kind.: Ich möchte sagen, ich bin halt mehr da gewesen, als zu Hause, obwohl ich, sagen wir mal, in Affenliebe an meinem Vater hing.: Zu meiner Mutter habe ich keine besondere Beziehung.: In späteren Jahren war meine Mutter quasi ..., sagen wir mal, das war dann die Zeit, als ich aus dem Arbeitsdi…, aus dem Landjahr kam und erwachsen wurde, da war meine Mutter aufgrund des guten Kontaktes, den ich mit meinem Vater hatte, mit dem man Pferde stehlen konnte, eifersüchtig auf mich, nicht.: Dann hatte ich noch ne Schwester, die war sechs Jahre jünger, die konnte allerdings ihre Ellenbogen brauchen, und die war auch hier so, sagen wir mal, Mutters Kind, wie man das öfter hat.: War das Ihre einzige Schwester?: Das war meine einzige Schwester, ja.: Die lebt auch noch.: Heute ist man, heute sind wir auseinander, aber heute verstehen wir uns halt, nicht.: Aber damals ..., ich muss auch ganz ehrlich sagen, ich hab auch oft mal ungerecht für die ne Abreibung bezogen, und wir mussten immer, sagen wir mal, im Sommer mussten wir um 7 Uhr rein und im Winter halt um 6 mussten wir dann eben rein.: Und wenn meine Mutter rief, ich stand schon an der Haustür, meine Schwester die kletterte dann über die Friedhofsmauer und verschwand im nächsten Baum und wurde dann nicht mehr gesehen.: Und ich kriegte dann jedes Mal so zackzack ganz kurz entschlossen einen dafür, weil die nicht mitkam, ne.: Ja, also dererlei Geschichten, ich meine, es ist unter Geschwister meistens halt, ne.: Der Altersunterschied eben, und normalerweise bin ich ruhig gewesen und sagen wir mal, ziemlich verschlossen.: Vielleicht auch durch die Krankheit bedingt, durch die Migräne, die ich immer gehabt habe.: Ja dann hab ich, eh, Büro gelernt.: Schreibmaschine, Steno.: Vor 39 noch?: Nein, nach dem Landjahr.: Das war 1940.: Und hab mich dann ..., dann habe ich zwei Jahre Büroarbeit gemacht, dann habe ich …: Was war das für ein Betrieb?: Eh, das war die NSV.: Das war Winterhilfswerk, so wie heute, ja die Hilfswerke sind, nicht.: Also wurden Spendenaufrufe gemacht und Kleider gesammelt, eben unter dieser Organisation.: Das gehört ja damals alles, war ja alles mehr oder weniger NS, ne.: Und, ja, dann habe ich mich freiwillig zum Arbeitsdienst gemeldet, weil ich gerne von zu Hause weg wollte.: Das war vielleicht im Unterbewusstsein, dass ich mal von zu Hause weg wollte, eben weil ich mich mit meiner Mutter nicht verstand.: Obwohl meine Mutter totgut war, nicht, und auch sonst äußerst korrekt.: Und, eh, ja dann hab ich mich halt gemeldet und bin dann auch im November ..., das war, November 42, bin ich dann zum ..., 41, 40, 41, nee 42, 42 bin ich denn ins ..., äh, nach Mülheim an der Möhne gekommen.: Und, nun muss ich ganz ehrlich sagen, ich hab mich da sehr wohl gefühlt, das war ein sehr kleines Lager, das war ein ehemaliger ..., eh, wie nannte man das in der damaligen Zeit, ein Erbbauernhof, weiß ich nicht, ich glaube, dass, der ging dann immer auf Erbpacht auf 99 Jahre.: Aber die alten Herrschaften waren verstorben und die Söhne waren gefallen, und dann hatte das der Arbeitsdienst übernommen, und die Ländereien, die waren, glaube ich, verkauft worden.: Das weiß ich aber nicht.: Und das war halt eben, dieser Hof wurde als Arbeitsdienstlager umgewandelt.: Ja, und da muss ich sagen, hab ich mich sehr wohl gefühlt, obwohl ich doch verwöhnt war, und mir wirklich zuhause weder Schuhe putzen, noch ein Butterbrot schmieren oder sonst irgendwas.: Also, wenn ich Wünsche hatte, was ich wollte, bekam ich.: Und da hab ich das Arbeiten gelernt.: Hab gelernt, zu teilen, aber das eigentlich schon im Landjahr.: Das Landjahr war eigentlich härter noch, als der Arbeitsdienst im Jahr 39.: Wie groß war denn die Gruppe in, eh, …: Im Landjahr haben wir gehabt ungefähr, ich glaube, 70 waren wir da, während wir im Arbeitsdienst ich glaube so um die 35 bis 40 nur waren, also eine ganz kleine Gruppe.: Und da muss ich ehrlich sagen, also das war sehr schön.: Schon alleine, die kleinere Gruppe.: Ja …: Wie war der Tagesablauf so?: Der Tagesablauf, ja halt wecken, wie früher im Landjahr auch, um 6 Uhr wurde geweckt, im Winter um 7 Uhr, und dann war normalerweise Frühsport.: Entweder sind wir ..., im Sommer haben wir draußen Frühsport gemacht und im Winter im ..., also wir haben schon mal einen Lauf gemacht oder so Freiübungen und im Winter, dann haben wir das halt im Hof nur so Freiübungen gemacht und keine Läufe.: Das hat so vielleicht sagen wir mal 10 Minuten bis eine Viertelstunde.: Und dann ging’s zum Waschen, in die Waschräume, in die Duschräume und anschließend war Frühstück.: Ja nach dem Frühstück wurde dann die Arbeit verteilt.: Die ersten 4 Wochen blieb man halt im Lager.: Da wurde man vertraut gemacht mit eben all den Dingen, mit den Tageseinteilungen.: Und dann wurde eingeteilt zum Hausdienst, also, sagen wir mal, sauber machen oder Waschküchengruppe, Bügelgruppe oder Küche und auch Verwaltungsarbeiten.: Also im Büro mussten wir auch helfen.: Eben, sagen wir mal, es wurde jeder getestet nach seinen Fähigkeiten und auch mehr oder weniger denn da eingesetzt.: Er musste zwar alles lernen, er kam überall mit rein aber, ich meine, viele schimpfen auf den Arbeitsdienst und sagen, das war Mist, das war Blödsinn.: Vielleicht lag’s an der Führung aber, wie gesagt, wir hatten das Glück, wir hatten ne wirklich, also sehr gute Führerin, die äußerst korrekt war.: Also wirklich äußerst korrekt.: Die weder Entgleisungen duldete, noch sich selbst, sagen wir mal, irgendwie gehen ließ.: Die auch sah, wenn irgendwelche Ungerechtigkeiten waren.: Zum Beispiel:: Ich hatte mich mit einer angefreundet, die kam aus Osnabrück, auch aus reichem Haus.: Der Vater war Fabrikant.: War auch verwöhnt.: Wir glichen uns im Charakter und auch im Aussehen.: Wir waren beide, sagen wir mal, ein bisschen zurückhaltend und nicht ganz so, so aufgeschlossen vielleicht, wie andere.: Ein bisschen, sagen wir mal, verschlossen.: Und wir beide waren Langsamesser.: Während die anderen, wenn es Essen gab, es wurde ja gemeinsam gefrühstückt, es gab 2. Frühstück, es gab dann Mittagessen und nachmittags zum Kaffee gab’s auch nochmal ne Kleinigkeit und eben halt wieder Abendbrot.: Während der Hauptmahlzeit hatte sie mitbekommen, dass wir beide Langsamesser waren, während die anderen alles schnell wegputzten.: Es kam ja alles in Schüsseln auf den Tisch.: Wenn wir dann das zweite Mal nachfassen wollten, dann war das schon weggeputzt.: Und dann hat sie uns nachher so platziert, dass wir oben in unmittelbarer Nähe, die saßen vor Kopf an einem kleinen Tisch die 4 Führerinnen, und aßen aber das gleiche, wie wir, hatten auch die Schüsseln stehen.: Aber die aßen meistens nicht leer.: Dann hat sie uns da oben hingesetzt, sodass wir dann tatsächlich noch was von Ihnen dann dablieb, dass wir nochmal nachnehmen konnten.: Obwohl es wirklich reichlich gab.: Also wir haben keinen Hunger gehabt.: Wir haben auch viel Sonderzuteilungen gekriegt, während des Krieges, nicht.: Es gab mal Kaffee oder wenn’s mal Orangen gab, dann gab’s einen Rotwein, dann gab’s im Winter Glühwein.: Und dann vergesse ich nie, wir mussten ..., eh, es war wohl der erste Ausgang, da sollten wir mit der Bahn ..., das ist noch eine alte Bahn, die fuhr von Belecke nach Soest.: Da mussten wir nach Soest zum Fotografen für die Pässe.: Und da waren sehr, sehr kaltes ..., früh, oder was, ich weiß nicht, ob es im Dezember oder Januar war.: Da entgleiste, vielleicht so ein Kilometer nach dem Bahnhof Mülheim an der Möhne, entgleiste die Lokomotive, stürzte den Abhang runter, und die ersten, der Packwagen und der zweite Wagen, die kippten um.: Und wir saßen im Letzten und haben uns natürlich auch die Köpfe eingedämmert und dergleichen.: Ein Weiterfahren war ja nicht möglich dann.: Dann haben wir erstmal geholfen, dass die Leute alle aus dem Zug kamen, da waren da noch Verwunderte dann, die von, ich glaube von Warstein nach Soest verlegt werden sollten.: Und als wir dann durchgefroren und sagen wir mal mehr oder weniger doch angeschlagen, der eine hatte hier ne Beule, der andere hatte da ne Schramme ins Lager zurück kamen und sie das erfuhr, sie kam uns schon auf halben Weg entgegen, wir mussten ja jetzt ungefähr 2 Kilometer zurück laufen.: Und das bei eisiger Kälte.: Das war nämlich, die Schienen waren durch den Frost geborsten, ne.: Dann kamen wir alle gleich ins Bett und dann ist, hat sie noch zwei oder drei anderen, die auch noch, die auch mit Unterführerinnen waren, haben uns Glühwein gemacht, ans Bett gebracht, haben gekocht für uns.: Wir durften den ganzen Tag im Bett bleiben.: Wir haben das Essen sogar ans Bett gebracht gekriegt.: Haben sich richtig bemüht.: Also, wir konnten wirklich [betont] den Tag genießen.: Man konnte merken, dass sie, ja so für sie, sagen wir mal, ne Entlastung war, dass uns wirklich nichts Ernstes passiert war, ne.: Wie alt war denn die Führerin?: Ja, also das war schwer zu schätzen.: Der Mann war Hauptmann und sie war ne, äh, wie soll ich sie nennen, auch ein bisschen verschlossene Frau.: Sagen wir mal nicht ganz offenherzig, aber man konnte, wenn man irgendwas hatte, doch zu ihr hingehen, ja.: Und, wie alt mag sie gewesen sein?: Ich schätze vielleicht 34, 35.: Sie war schwer zu schätzen, ne.: Ich hab auch leider kein Foto von ihr.: Ja, und dann wurden wir später eingesetzt eben in, wir kamen in Haushalte, in kinderreiche Haushalte, wo die Männer im Feld waren, wo die einzogen waren.: Da mussten wir den Frauen helfen.: Die Kinder mit versorgen.: Oder auch zum Bauern, wo eben die Söhne bzw. Männer eingezogen waren, wo die Winterarbeit gemacht werden musste, denn da fällt ja auch beim Bauern was an.: Und, ich muss ganz ehrlich sagen, ich hab im Landjahr und im Arbeitsdienst wirklich das gelernt, was ich zum Leben brauchte.: Und ich weiß nicht, ob ich das Leben, wenn ich vielleicht zuhause geblieben wäre, so geschafft hätte, wie ich es dadurch geschafft habe.: Denn ich habs wirklich nicht leicht gehabt.: Ich hab dann nach dem Arbeitsdienst …: Bleiben wir dann erst noch beim Arbeitsdienst.: Sie sagten, im Haushalt haben Sie mitgeholfen und bei den benachbarten Bauern.: Sie waren also so in unmittelbarer Nähe.: Ja wir mussten mit dem Fahrrad, sagen wir mal so, ins nächste Dorf nach Allagen, nach Belecke.: Also im näheren Umkreis, ne.: Entweder zu Fuß oder mit dem Fahrrad.: Wir hatten Fahrräder.: Und ja, da musste halt eben die Arbeit mitgemacht werden, die die Leute alleine nicht schafften, ne.: Ich sag ja, das erste was ich hatte, war diese Familie mit den neun Kindern, das Zehnte war unterwegs.: Und da war viel Arbeit, da fiel viel Arbeit an.: Schon alleine die Wäsche, denn früher gab’s ja keine elektrischen Waschmaschinen, nicht.:\n",
    "\"\"\"\n",
    "\n",
    "# Extract name and year of birth\n",
    "result = extract_metadata_in_german(transcript)\n",
    "print(\"Extrahierte Metadaten:\", result)\n"
   ]
  },
  {
   "cell_type": "code",
   "execution_count": 12,
   "id": "cea4a26e-8ffe-4ca4-ba5b-8736be3a1e7c",
   "metadata": {},
   "outputs": [
    {
     "name": "stdout",
     "output_type": "stream",
     "text": [
      "Llama 8B Response: ChatCompletion(id='chatcmpl-aeeda72d-84d0-4a1d-8401-6be2c2daf409', choices=[Choice(finish_reason='stop', index=0, logprobs=None, message=ChatCompletionMessage(content='The story is about a woman born on May 29, 1925, in Hemer, Sauerland. She was spoiled as a child, especially by her grandmother, and suffered from migraines, which made school challenging. After completing her primary education in 1939, she had to serve a mandatory year of community service, known as a \"Landjahr\", instead of working as a maid. The experience was tough, especially the physical labor on a farm, but it taught her to work hard. After completing the Landjahr, she returned home and began learning office work. She then volunteered for the Labor Service, wanting to leave home, and had a positive experience in a small camp in Mülheim an der Möhne. During her time in the Labor Service, she helped in families with many children and on farms where men were away fighting in the war. She learned to work independently and take responsibility. The woman is grateful for the experiences she had during the Landjahr and Labor Service, believing they helped her develop into a self-sufficient person.', role='assistant', function_call=None, tool_calls=None))], created=1736102304, model='llama3-8b-8192', object='chat.completion', system_fingerprint='fp_a97cfe35ae', usage=CompletionUsage(completion_tokens=219, prompt_tokens=439, total_tokens=658, completion_time=0.1825, prompt_time=0.078605138, queue_time=0.018943882999999995, total_time=0.261105138), x_groq={'id': 'req_01jgvw5pgafvgtqjfw032cyemt'})\n",
      "Mixtral Response: ChatCompletion(id='chatcmpl-3f1668a9-c798-4a2c-93e1-7e32f9cb8472', choices=[Choice(finish_reason='stop', index=0, logprobs=None, message=ChatCompletionMessage(content='The story is about the childhood and youth of a woman born in Hemer, Sauerland, on May 29, 1925. She was the first grandchild and was spoiled, especially by her grandmother. The woman suffered from migraines, which made her school years difficult. She attended Hauptschule and graduated in 1939. After school, she had to complete a mandatory year, known as a \"Haushaltsjahr.\" Her grandparents, who had a certain air of superiority, did not want her to work as a maid in a single household, so she went to a rural year camp instead. The rural year was hard, particularly the farm work, and the woman had to learn to work hard. After the rural year, the woman returned home and started learning office work. She worked in an office for two years and then volunteered for the labor service to get away from home. The labor service was a good experience for her, and she felt very comfortable in the small camp in Mülheim an der Möhne. The camp leader was very correct and fair, and the woman learned a lot about teamwork and discipline. During her labor service, the woman helped in large families and on farms where the men were at war. She learned to work independently and take responsibility. The woman is grateful for the experiences she had during the rural year and the labor service, as she believes they helped her lead an independent life.', role='assistant', function_call=None, tool_calls=None))], created=1736102304, model='mixtral-8x7b-32768', object='chat.completion', system_fingerprint='fp_c5f20b5bb1', usage=CompletionUsage(completion_tokens=304, prompt_tokens=488, total_tokens=792, completion_time=0.484591361, prompt_time=0.025019385, queue_time=0.018152534, total_time=0.509610746), x_groq={'id': 'req_01jgvw5pyxfjjr15s193n2gj0g'})\n",
      "Llama 70B Response: ChatCompletion(id='chatcmpl-c9339fb7-70f4-4034-be11-dc32db8a3611', choices=[Choice(finish_reason='stop', index=0, logprobs=None, message=ChatCompletionMessage(content='Die Erzählung beschreibt die Kindheit und Jugend einer Frau, die 1925 in Hemer im Sauerland geboren wurde. Sie wuchs als verwöhntes Enkelkind auf und litt unter Migräne, was ihre Schulzeit erschwerte. Nach ihrem Abschluss an der Hauptschule 1939 musste sie ein Pflichtjahr ableisten, das sie in einem Landjahr-Lager verbrachte. Dieses Jahr war sehr hart, aber sie lernte, schwer zu arbeiten.\\n\\nNach dem Landjahr kehrte sie nach Hause zurück und begann, Büroarbeit zu lernen. Sie arbeitete zwei Jahre lang in einem Büro und meldete sich dann freiwillig zum Arbeitsdienst, um von zu Hause weg zu kommen. Der Arbeitsdienst war eine positive Erfahrung für sie, bei der sie in kinderreichen Haushalten und bei Bauern half, wo die Männer im Krieg waren. Sie lernte, selbstständig zu arbeiten und Verantwortung zu übernehmen.\\n\\nDie Frau ist dankbar für die Erfahrungen, die sie im Landjahr und im Arbeitsdienst gemacht hat, und glaubt, dass sie ihr geholfen haben, ein selbstständiges Leben zu führen. Die Erzählung zeigt, wie die Frau durch ihre Erfahrungen und Herausforderungen wuchs und sich entwickelte, um schließlich ein unabhängiges und selbstständiges Leben zu führen.', role='assistant', function_call=None, tool_calls=None))], created=1736102305, model='llama-3.3-70b-versatile', object='chat.completion', system_fingerprint='fp_fcc3b74982', usage=CompletionUsage(completion_tokens=319, prompt_tokens=464, total_tokens=783, completion_time=1.16, prompt_time=0.070859871, queue_time=0.447954701, total_time=1.230859871), x_groq={'id': 'req_01jgvw5qnkfkm8kngdy6wab5x0'})\n"
     ]
    }
   ],
   "source": [
    "MODEL_LLAMA_8B = \"llama3-8b-8192\"\n",
    "MODEL_MIXTRAL = \"mixtral-8x7b-32768\"\n",
    "MODEL_LLAMA_70B = \"llama-3.3-70b-versatile\"\n",
    "\n",
    "# Define a prompt\n",
    "prompt = \"Summarize this text:Die Erzählung handelt von der Kindheit und Jugend einer Frau, die am 29. Mai 1925 in Hemer im Sauerland geboren wurde. Sie war das erste Enkelkind und wurde sehr verwöhnt, insbesondere von ihrer Großmutter. Die Frau litt unter Migräne, was ihre Schulzeit erschwerte. Sie besuchte die Hauptschule und machte 1939 ihren Abschluss.Nach der Schule musste sie ein Pflichtjahr, auch bekannt als Haushaltsjahr, ableisten. Ihre Großeltern, die einen gewissen Dünkel hatten, wollten nicht, dass sie als Dienstmädchen in einem Einzelhaushalt arbeitete, und so kam sie in ein Landjahr-Lager. Das Landjahr war sehr hart, insbesondere die Arbeit auf dem Bauernhof, und die Frau musste lernen, schwer zu arbeiten.Nach dem Landjahr kehrte die Frau nach Hause zurück und begann, Büroarbeit zu lernen. Sie arbeitete zwei Jahre lang in einem Büro und meldete sich dann freiwillig zum Arbeitsdienst, um von zu Hause weg zu kommen. Der Arbeitsdienst war eine gute Erfahrung für sie, und sie fühlte sich sehr wohl in dem kleinen Lager in Mülheim an der Möhne. Die Führerin des Lagers war sehr korrekt und fair, und die Frau lernte viel über Teamarbeit und Disziplin.Während ihres Arbeitsdienstes half die Frau in kinderreichen Haushalten und bei Bauern, wo die Männer im Krieg waren. Sie lernte, selbstständig zu arbeiten und Verantwortung zu übernehmen. Die Frau ist dankbar für die Erfahrungen, die sie im Landjahr und im Arbeitsdienst gemacht hat, und glaubt, dass sie ihr geholfen haben, ein selbstständiges Leben zu führen.\"\n",
    "\n",
    "# Use the models directly in predictions\n",
    "llama_8b_response = client.chat.completions.create(\n",
    "    model=MODEL_LLAMA_8B,\n",
    "    messages=[{\"role\": \"user\", \"content\": prompt}],\n",
    "    temperature=0,\n",
    ")\n",
    "\n",
    "mixtral_response = client.chat.completions.create(\n",
    "    model=MODEL_MIXTRAL,\n",
    "    messages=[{\"role\": \"user\", \"content\": prompt}],\n",
    "    temperature=0,\n",
    ")\n",
    "\n",
    "llama_70b_response = client.chat.completions.create(\n",
    "    model=MODEL_LLAMA_70B,\n",
    "    messages=[{\"role\": \"user\", \"content\": prompt}],\n",
    "    temperature=0,\n",
    ")\n",
    "\n",
    "# Print results\n",
    "print(\"Llama 8B Response:\", llama_8b_response)\n",
    "print(\"Mixtral Response:\", mixtral_response)\n",
    "print(\"Llama 70B Response:\", llama_70b_response)\n"
   ]
  },
  {
   "cell_type": "code",
   "execution_count": 22,
   "id": "939da4dc-66aa-43ae-aa60-17e422e781e9",
   "metadata": {},
   "outputs": [
    {
     "name": "stdout",
     "output_type": "stream",
     "text": [
      "llama_70b_response: ChatCompletion(id='chatcmpl-d974e8de-465b-4325-9fcb-6263c2d77e92', choices=[Choice(finish_reason='stop', index=0, logprobs=None, message=ChatCompletionMessage(content='Die Erzählung beschreibt die Kindheit und Jugend einer Frau, die 1925 in Hemer im Sauerland geboren wurde. Sie war das erste Enkelkind und wurde sehr verwöhnt, insbesondere von ihrer Großmutter. Aufgrund von Migräneanfällen hatte sie Schwierigkeiten in der Schule, aber schaffte 1939 ihren Abschluss.\\n\\nNach der Schule musste sie ein Pflichtjahr ableisten, das sogenannte Landjahr, in dem sie auf einem Bauernhof arbeitete. Diese Erfahrung war sehr hart, aber sie lernte, schwer zu arbeiten. Anschließend kehrte sie nach Hause zurück und begann, Büroarbeit zu lernen.\\n\\nSpäter meldete sie sich freiwillig zum Arbeitsdienst, um von zu Hause weg zu kommen. Diese Erfahrung war sehr positiv, und sie lernte viel über Teamarbeit und Disziplin. Während ihres Arbeitsdienstes half sie in kinderreichen Haushalten und bei Bauern, wo die Männer im Krieg waren. Sie lernte, selbstständig zu arbeiten und Verantwortung zu übernehmen.\\n\\nDie Frau ist dankbar für die Erfahrungen, die sie im Landjahr und im Arbeitsdienst gemacht hat, und glaubt, dass sie ihr geholfen haben, ein selbstständiges Leben zu führen.', role='assistant', function_call=None, tool_calls=None))], created=1736091218, model='llama-3.3-70b-versatile', object='chat.completion', system_fingerprint='fp_fcc3b74982', usage=CompletionUsage(completion_tokens=308, prompt_tokens=464, total_tokens=772, completion_time=1.12, prompt_time=0.057341408, queue_time=0.01821618199999999, total_time=1.177341408), x_groq={'id': 'req_01jgvhkct7eq8bypssz3mre2ej'})\n"
     ]
    }
   ],
   "source": [
    "print(\"llama_70b_response:\", llama_70b_response)"
   ]
  },
  {
   "cell_type": "code",
   "execution_count": 23,
   "id": "68fa6bd7-9f61-4c65-8f66-65bd934e23e5",
   "metadata": {},
   "outputs": [
    {
     "name": "stdout",
     "output_type": "stream",
     "text": [
      "mixtral_response: ChatCompletion(id='chatcmpl-93b3ad88-5f21-4b89-ac2e-e267e8890967', choices=[Choice(finish_reason='stop', index=0, logprobs=None, message=ChatCompletionMessage(content='The story is about the childhood and youth of a woman born in Hemer, Sauerland, on May 29, 1925. She was the first grandchild and was spoiled, especially by her grandmother. The woman suffered from migraines, which made her school years difficult. She attended Hauptschule and graduated in 1939. After school, she had to complete a mandatory year, known as a \"Haushaltsjahr.\" Her grandparents, who had a certain air of superiority, did not want her to work as a maid in a single household, so she went to a rural year camp instead. The rural year was hard, particularly the farm work, and the woman had to learn to work hard. After the rural year, the woman returned home and started learning office work. She worked in an office for two years and then volunteered for the labor service to get away from home. The labor service was a good experience for her, and she felt very comfortable in the small camp in Mülheim an der Möhne. The camp leader was very correct and fair, and the woman learned a lot about teamwork and discipline. During her labor service, the woman helped in large families and on farms where the men were at war. She learned to work independently and take responsibility. The woman is grateful for the experiences she had during the rural year and the labor service, as she believes they helped her lead an independent life.', role='assistant', function_call=None, tool_calls=None))], created=1736091218, model='mixtral-8x7b-32768', object='chat.completion', system_fingerprint='fp_c5f20b5bb1', usage=CompletionUsage(completion_tokens=304, prompt_tokens=488, total_tokens=792, completion_time=0.480356167, prompt_time=0.021991446, queue_time=0.017383858999999998, total_time=0.502347613), x_groq={'id': 'req_01jgvhkc4hffn9e7t4tep6bgcd'})\n"
     ]
    }
   ],
   "source": [
    "print(\"mixtral_response:\", mixtral_response)"
   ]
  },
  {
   "cell_type": "code",
   "execution_count": 36,
   "id": "55f5d178-317f-47d1-8eb3-2f69534364a1",
   "metadata": {},
   "outputs": [],
   "source": [
    "# Input text\n",
    "transcript = \"\"\"\n",
    "\"Können wir anfangen?: Also wäre schön, wenn Sie mit Kindheit beginnen würden.: Ich war das erste Enkelkind, einzige Enkelkind, lange Zeit und bin sehr verwöhnt worden, da ich ziemlich viel bei der Großvater gewesen bin.: Ich bin gebürtig aus Hemer im Sauerland und bin 19.7.95 geboren.: Und, ja, Kindheit verlief eigentlich an und für sich normal, habe allerdings ziemlich unter Migräne zu leiden gehabt schon als Vorschulkind, was sich während der Schulzeit verschlechterte und verschlimmerte.: Ich hätte gerne die höhere Schule besucht, durfte aber nicht, weil mir immer gesagt wurde, ich sei krank.: Die Schulentlassung, also den Hauptschulabschluss, habe ich gemacht 1999.: Und damals war das Pflichtjahr bzw. Haushaltsjahr, eh,  musste gema…, musste gemacht werden, ob man die Schule, äh, besuchte oder bevor man den Beruf ergreifen konnte, so.: Und da meine Großeltern ziemlich, sagen wir mal, einen kleinen Dünkel hatten, durfte ich nicht in einen Einzelhaushalt, wie das üblich war, daher kam ich dann in ein Stadtjahr-Lager.: Konnte man das denn beeinflussen, wo man hin kommt?: Ja, direkt beeinflussen konnte man das insofern nicht, aber, wie gesagt, meine Großeltern, die wollten nicht, dass ich eben bei Bekannten, also in unserem Ort oder der Umgebung irgendwo als Dienstmädchen arbeitete.: Also, wie gesagt, irgendwelche Vorurteile.: Und daher dann eben das Stadtjahr-Lager und das war wieder von der Schule aus das gleich gemanagt, nicht.: Sie sprechen von einem bestimmten Dünkel der Großeltern.: Worauf …: Äh, ja nun, ich hatte das eben nicht notwendig, nicht.: Sie hatten halt alles, sie konnten mir alles bieten und fanden, dass ich eben es nicht nötig hätte, bei anderen Leuten als Dienstmädchen zu arbeiten.: Was ich heute als Blödsinn betrachte, denn ich glaube viele, die eben dieses Haushaltsjahr gemacht haben und nicht im Lager gewesen sind, haben es leichter gehabt, als diejenigen, die eben im Stadtjahr-Lager gewesen sind.: Denn im Stadtjahr-Lager, da war ja Lagerzeit und in den Somm…, in der Sommerzeit eben Erntezeit beim Bauern die schwere Arbeit.: Und das war wesentlich schwerer als eben nur Haushalt.: Denn Haushaltsarbeit war ja auch im Lager selber noch mit.: Ja, und die Zeit hatte ich dann um und dann habe ich, bin ich ein halbes Jahr zuhause gewesen.: Was haben denn Ihre Eltern gemacht?: Eh, mein Vater, der war in Iserlohn bei der ..., wie nannte sich das damals, äh, ja Kreisorganisationsleiter bei der Arbeitsfront.: Also so, sagen wir mal, Art wie heute die Gewerkschaft, so etwas ähnliches, ja?: Mein Vater war aber gelernter Überseekaufmann.: Also war Ihr Vater damals schon gewerkschaftlich …: Nein, also ...: ... orientiert, oder?: Äh, Gott, der hat sich halt dafür interessiert und da als Überseekaufmann, man konnte damals, äh, schlecht ..., der wollte eigentlich nach Übersee gehen, nach, äh, in die südamerikanischen Länder, irgendwie, ach ja, es ist ja am Krieg gescheitert.: Das war vielleicht im Unterbewusstsein, dass ich mal von zu Hause weg wollte, eben weil ich mich mit meiner Mutter nicht verstand.: Obwohl meine Mutter totgut war, nicht, und auch sonst äußerst korrekt.: Und, eh, ja dann hab ich mich halt gemeldet und bin dann auch im November ..., das war, November 42, bin ich dann zum ..., 41, 40, 41, nee 42, 42 bin ich denn ins ..., äh, nach Mülheim an der Möhne gekommen.: Und, nun muss ich ganz ehrlich sagen, ich hab mich da sehr wohl gefühlt, das war ein sehr kleines Lager, das war ein ehemaliger ..., eh, wie nannte man das in der damaligen Zeit, ein Erbbauernhof, weiß ich nicht, ich glaube, dass, der ging dann immer auf Erbpacht auf 99 Jahre.: Aber die alten Herrschaften waren verstorben und die Söhne waren gefallen, und dann hatte das der Arbeitsdienst übernommen, und die Ländereien, die waren, glaube ich, verkauft worden.: Das weiß ich aber nicht.: Und das war halt eben, dieser Hof wurde als Arbeitsdienstlager umgewandelt.: \n",
    " \n",
    "\"\"\""
   ]
  },
  {
   "cell_type": "code",
   "execution_count": 37,
   "id": "20f5750f-f362-4882-95b4-a1946d8dde0b",
   "metadata": {},
   "outputs": [
    {
     "ename": "AttributeError",
     "evalue": "'str' object has no attribute 'chat'",
     "output_type": "error",
     "traceback": [
      "\u001b[0;31m---------------------------------------------------------------------------\u001b[0m",
      "\u001b[0;31mAttributeError\u001b[0m                            Traceback (most recent call last)",
      "Cell \u001b[0;32mIn[37], line 2\u001b[0m\n\u001b[1;32m      1\u001b[0m \u001b[38;5;66;03m# Generate responses from each model\u001b[39;00m\n\u001b[0;32m----> 2\u001b[0m llama_8b_response \u001b[38;5;241m=\u001b[39m \u001b[43mextract_metadata_in_german\u001b[49m\u001b[43m(\u001b[49m\u001b[43mMODEL_LLAMA_8B\u001b[49m\u001b[43m,\u001b[49m\u001b[43m \u001b[49m\u001b[43mtranscript\u001b[49m\u001b[43m)\u001b[49m\n\u001b[1;32m      3\u001b[0m mixtral_response \u001b[38;5;241m=\u001b[39m extract_metadata_in_german(MODEL_MIXTRAL, transcript)\n\u001b[1;32m      4\u001b[0m llama_70b_response \u001b[38;5;241m=\u001b[39m extract_metadata_in_german(MODEL_LLAMA_70B, transcript)\n",
      "Cell \u001b[0;32mIn[35], line 27\u001b[0m, in \u001b[0;36mextract_metadata_in_german\u001b[0;34m(model, text)\u001b[0m\n\u001b[1;32m      6\u001b[0m prompt \u001b[38;5;241m=\u001b[39m \u001b[38;5;124mf\u001b[39m\u001b[38;5;124m\"\"\"\u001b[39m\n\u001b[1;32m      7\u001b[0m \u001b[38;5;124mExtrahieren Sie die folgenden Informationen aus dem Transkript und geben Sie die Antwort auf Deutsch:\u001b[39m\n\u001b[1;32m      8\u001b[0m \n\u001b[0;32m   (...)\u001b[0m\n\u001b[1;32m     23\u001b[0m \u001b[38;5;124mBERUF:\u001b[39m\n\u001b[1;32m     24\u001b[0m \u001b[38;5;124m\u001b[39m\u001b[38;5;124m\"\"\"\u001b[39m\n\u001b[1;32m     26\u001b[0m \u001b[38;5;66;03m# Generate response using the provided model\u001b[39;00m\n\u001b[0;32m---> 27\u001b[0m response \u001b[38;5;241m=\u001b[39m \u001b[43mmodel\u001b[49m\u001b[38;5;241;43m.\u001b[39;49m\u001b[43mchat\u001b[49m\u001b[38;5;241m.\u001b[39mcompletions\u001b[38;5;241m.\u001b[39mcreate(\n\u001b[1;32m     28\u001b[0m     model\u001b[38;5;241m=\u001b[39mmodel,\n\u001b[1;32m     29\u001b[0m     messages\u001b[38;5;241m=\u001b[39m[{\u001b[38;5;124m\"\u001b[39m\u001b[38;5;124mrole\u001b[39m\u001b[38;5;124m\"\u001b[39m: \u001b[38;5;124m\"\u001b[39m\u001b[38;5;124muser\u001b[39m\u001b[38;5;124m\"\u001b[39m, \u001b[38;5;124m\"\u001b[39m\u001b[38;5;124mcontent\u001b[39m\u001b[38;5;124m\"\u001b[39m: prompt}],\n\u001b[1;32m     30\u001b[0m     temperature\u001b[38;5;241m=\u001b[39m\u001b[38;5;241m0\u001b[39m,\n\u001b[1;32m     31\u001b[0m )\n\u001b[1;32m     33\u001b[0m \u001b[38;5;66;03m# Return the raw response content\u001b[39;00m\n\u001b[1;32m     34\u001b[0m \u001b[38;5;28;01mreturn\u001b[39;00m response[\u001b[38;5;124m'\u001b[39m\u001b[38;5;124mchoices\u001b[39m\u001b[38;5;124m'\u001b[39m][\u001b[38;5;241m0\u001b[39m][\u001b[38;5;124m'\u001b[39m\u001b[38;5;124mmessage\u001b[39m\u001b[38;5;124m'\u001b[39m][\u001b[38;5;124m'\u001b[39m\u001b[38;5;124mcontent\u001b[39m\u001b[38;5;124m'\u001b[39m]\n",
      "\u001b[0;31mAttributeError\u001b[0m: 'str' object has no attribute 'chat'"
     ]
    }
   ],
   "source": [
    "# Generate responses from each model\n",
    "llama_8b_response = extract_metadata_in_german(MODEL_LLAMA_8B, transcript)\n",
    "mixtral_response = extract_metadata_in_german(MODEL_MIXTRAL, transcript)\n",
    "llama_70b_response = extract_metadata_in_german(MODEL_LLAMA_70B, transcript)\n",
    "\n",
    "# Print the responses\n",
    "print(\"Llama 8B Response:\", llama_8b_response)\n",
    "print(\"Mixtral Response:\", mixtral_response)\n",
    "print(\"Llama 70B Response:\", llama_70b_response)"
   ]
  },
  {
   "cell_type": "code",
   "execution_count": 13,
   "id": "cf79d988-8929-44db-9e27-e6fd09167fd2",
   "metadata": {},
   "outputs": [],
   "source": [
    "def extract_metadata_in_german(client, model_name: str, text: str) -> dict:\n",
    "    \"\"\"\n",
    "    Extract metadata from a given German transcript using the specified model.\n",
    "    \n",
    "    Args:\n",
    "        client: The Groq client object.\n",
    "        model_name: The name of the model to use (e.g., 'llama3-8b-8192').\n",
    "        text: The transcript to analyze.\n",
    "    \n",
    "    Returns:\n",
    "        A string containing the extracted metadata.\n",
    "    \"\"\"\n",
    "    # Construct the prompt for metadata extraction\n",
    "    prompt = f\"\"\"\n",
    "    Extrahieren Sie die folgenden Informationen aus dem Transkript und geben Sie die Antwort auf Deutsch:\n",
    "\n",
    "    ### Persönliche Informationen:\n",
    "    1. NAME: Der vollständige Name der Person (Vor- und Nachname, falls verfügbar).\n",
    "    2. JAHRGANG: Das Geburtsjahr der Person.\n",
    "    3. ORT: Der Geburtsort der Person.\n",
    "    4. GESCHLECHT: Das Geschlecht der Person (z.B. männlich, weiblich, divers).\n",
    "    5. BERUF: Der aktuelle Beruf der Person.\n",
    "\n",
    "    ### Informationen über Vater und Partner:\n",
    "    6. VAT_JG: Geburtsjahr des Vaters.\n",
    "    7. VAT_KONFESSION: Religion des Vaters.\n",
    "    8. VAT_HERKUN: Herkunft des Vaters.\n",
    "    9. VAT_SCHULE: Schulbildung des Vaters.\n",
    "    10. VAT_AUSBIL: Ausbildung des Vaters.\n",
    "    11. VAT_STAND: Beruflicher Status des Vaters.\n",
    "    12. VAT_POLOR: Politische Orientierung des Vaters.\n",
    "\n",
    "    Transkript:\n",
    "    {text}\n",
    "\n",
    "    Metadaten:\n",
    "    NAME:\n",
    "    JAHRGANG:\n",
    "    ORT:\n",
    "    GESCHLECHT:\n",
    "    BERUF:\n",
    "    VAT_JG:\n",
    "    VAT_KONFESSION:\n",
    "    VAT_HERKUN:\n",
    "    VAT_SCHULE:\n",
    "    VAT_AUSBIL:\n",
    "    VAT_STAND:\n",
    "    VAT_POLOR:\n",
    "    \"\"\"\n",
    "\n",
    "    \n",
    "    # Generate response using the Groq client\n",
    "    response = client.chat.completions.create(\n",
    "        model=model_name,\n",
    "        messages=[{\"role\": \"user\", \"content\": prompt}],\n",
    "        temperature=0,\n",
    "    )\n",
    "    \n",
    "    # Access the content based on response structure\n",
    "    metadata = response.choices[0].message.content\n",
    "    return metadata\n"
   ]
  },
  {
   "cell_type": "code",
   "execution_count": 14,
   "id": "c90f9ed9-b34f-4274-abd3-477e63640149",
   "metadata": {},
   "outputs": [],
   "source": [
    "# Model names\n",
    "MODEL_LLAMA_8B = \"llama3-8b-8192\"\n",
    "MODEL_MIXTRAL = \"mixtral-8x7b-32768\"\n",
    "MODEL_LLAMA_70B = \"llama-3.3-70b-versatile\"\n",
    "\n",
    "# Example transcript\n",
    "transcript = \"\"\"\n",
    "\"Können wir anfangen?: Also wäre schön, wenn Sie mit Kindheit beginnen würden.: Ich war das erste Enkelkind, einzige Enkelkind, lange Zeit und bin sehr verwöhnt worden, da ich ziemlich viel bei der Großvater gewesen bin.: Ich bin gebürtig aus dossenheim im heildelberg und bin 19.7.45 geboren.: Und, ja, Kindheit verlief eigentlich an und für sich normal, habe allerdings ziemlich unter Migräne zu leiden gehabt schon als Vorschulkind, was sich während der Schulzeit verschlechterte und verschlimmerte.: Ich hätte gerne die höhere Schule besucht, durfte aber nicht, weil mir immer gesagt wurde, ich sei krank.: Die Schulentlassung, also den Hauptschulabschluss, habe ich gemacht 1999.: Und damals war das Pflichtjahr bzw. Haushaltsjahr, eh,  musste gema…, musste gemacht werden, ob man die Schule, äh, besuchte oder bevor man den Beruf ergreifen konnte, so.: Und da meine Großeltern ziemlich, sagen wir mal, einen kleinen Dünkel hatten, durfte ich nicht in einen Einzelhaushalt, wie das üblich war, daher kam ich dann in ein Stadtjahr-Lager.: Konnte man das denn beeinflussen, wo man hin kommt?: Ja, direkt beeinflussen konnte man das insofern nicht, aber, wie gesagt, meine Großeltern, die wollten nicht, dass ich eben bei Bekannten, also in unserem Ort oder der Umgebung irgendwo als Dienstmädchen arbeitete.: Also, wie gesagt, irgendwelche Vorurteile.: Und daher dann eben das Stadtjahr-Lager und das war wieder von der Schule aus das gleich gemanagt, nicht.: Sie sprechen von einem bestimmten Dünkel der Großeltern.: Worauf …: Äh, ja nun, ich hatte das eben nicht notwendig, nicht.: Sie hatten halt alles, sie konnten mir alles bieten und fanden, dass ich eben es nicht nötig hätte, bei anderen Leuten als Dienstmädchen zu arbeiten.: Was ich heute als Blödsinn betrachte, denn ich glaube viele, die eben dieses Haushaltsjahr gemacht haben und nicht im Lager gewesen sind, haben es leichter gehabt, als diejenigen, die eben im Stadtjahr-Lager gewesen sind.: Denn im Stadtjahr-Lager, da war ja Lagerzeit und in den Somm…, in der Sommerzeit eben Erntezeit beim Bauern die schwere Arbeit.: Und das war wesentlich schwerer als eben nur Haushalt.: Denn Haushaltsarbeit war ja auch im Lager selber noch mit.: Ja, und die Zeit hatte ich dann um und dann habe ich, bin ich ein halbes Jahr zuhause gewesen.: Was haben denn Ihre Eltern gemacht?: Eh, mein Vater, der war in Iserlohn bei der ..., wie nannte sich das damals, äh, ja Kreisorganisationsleiter bei der Arbeitsfront.: Also so, sagen wir mal, Art wie heute die Gewerkschaft, so etwas ähnliches, ja?: Mein Vater war aber gelernter Überseekaufmann.: Also war Ihr Vater damals schon gewerkschaftlich …: Nein, also ...: ... orientiert, oder?: Äh, Gott, der hat sich halt dafür interessiert und da als Überseekaufmann, man konnte damals, äh, schlecht ..., der wollte eigentlich nach Übersee gehen, nach, äh, in die südamerikanischen Länder, irgendwie, ach ja, es ist ja am Krieg gescheitert.: Das war vielleicht im Unterbewusstsein, dass ich mal von zu Hause weg wollte, eben weil ich mich mit meiner Mutter nicht verstand.: Obwohl meine Mutter totgut war, nicht, und auch sonst äußerst korrekt.: Und, eh, ja dann hab ich mich halt gemeldet und bin dann auch im November ..., das war, November 42, bin ich dann zum ..., 41, 40, 41, nee 42, 42 bin ich denn ins ..., äh, nach Mülheim an der Möhne gekommen.: Und, nun muss ich ganz ehrlich sagen, ich hab mich da sehr wohl gefühlt, das war ein sehr kleines Lager, das war ein ehemaliger ..., eh, wie nannte man das in der damaligen Zeit, ein Erbbauernhof, weiß ich nicht, ich glaube, dass, der ging dann immer auf Erbpacht auf 99 Jahre.: Aber die alten Herrschaften waren verstorben und die Söhne waren gefallen, und dann hatte das der Arbeitsdienst übernommen, und die Ländereien, die waren, glaube ich, verkauft worden.: Das weiß ich aber nicht.: Und das war halt eben, dieser Hof wurde als Arbeitsdienstlager umgewandelt.: \n",
    " \n",
    "\"\"\"\n"
   ]
  },
  {
   "cell_type": "code",
   "execution_count": 15,
   "id": "895ecfd1-6475-47be-acf3-c86fd5f73f2f",
   "metadata": {},
   "outputs": [
    {
     "name": "stdout",
     "output_type": "stream",
     "text": [
      "Llama 8B Response: Hier sind die extrahierten Informationen in deutscher Sprache:\n",
      "\n",
      "### Persönliche Informationen:\n",
      "\n",
      "* NAME: Kein vollständiger Name genannt\n",
      "* JAHRGANG: 1945\n",
      "* ORT: Dossenheim, Heidelberg\n",
      "* GESCHLECHT: Weiblich\n",
      "* BERUF: Kein Beruf genannt\n",
      "\n",
      "### Informationen über Vater und Partner:\n",
      "\n",
      "* VAT_JG: Kein Geburtsjahr des Vaters genannt\n",
      "* VAT_KONFESSION: Keine Religion des Vaters genannt\n",
      "* VAT_HERKUN: Keine Herkunft des Vaters genannt\n",
      "* VAT_SCHULE: Keine Schulbildung des Vaters genannt\n",
      "* VAT_AUSBIL: Überseekaufmann\n",
      "* VAT_STAND: Kreisorganisationsleiter bei der Arbeitsfront\n",
      "* VAT_POLOR: Keine politische Orientierung des Vaters genannt\n",
      "Mixtral Response: Aus dem Transkript können folgende Informationen extrahiert werden:\n",
      "\n",
      "Persönliche Informationen:\n",
      "1. NAME: Nicht angegeben.\n",
      "2. JAHRGANG: Geboren am 19.7.45.\n",
      "3. ORT: Gebürtig aus Dossenheim im Heidelberg.\n",
      "4. GESCHLECHT: Weiblich (geschlossen aus dem Kontext).\n",
      "5. BERUF: Nicht angegeben.\n",
      "\n",
      "Informationen über Vater und Partner:\n",
      "6. VAT_JG: Geburtsjahr des Vaters nicht angegeben.\n",
      "7. VAT_KONFESSION: Religion des Vaters nicht angegeben.\n",
      "8. VAT_HERKUN: Herkunft des Vaters nicht angegeben.\n",
      "9. VAT_SCHULE: Schulbildung des Vaters nicht angegeben.\n",
      "10. VAT_AUSBIL: Ausbildung des Vaters - gelernter Überseekaufmann.\n",
      "11. VAT_STAND: Beruflicher Status des Vaters - Kreisorganisationsleiter bei der Arbeitsfront.\n",
      "12. VAT_POLOR: Politische Orientierung des Vaters nicht angegeben.\n",
      "\n",
      "Die Informationen über die Mutter sind sehr begrenzt, aber es ist bekannt, dass sie \"totgut\" war (vermutlich verstorben) und die Sprecherin hatte Probleme mit ihr.\n",
      "Llama 70B Response: Basierend auf dem Transkript können die folgenden Informationen extrahiert werden:\n",
      "\n",
      "### Persönliche Informationen:\n",
      "1. **NAME**: Leider nicht explizit im Transkript erwähnt.\n",
      "2. **JAHRGANG**: 19. Juli 1945.\n",
      "3. **ORT**: Dossenheim im Heidelberg.\n",
      "4. **GESCHLECHT**: Weiblich (impliziert durch die Erwähnung von \"Dienstmädchen\" und den Kontext).\n",
      "5. **BERUF**: Leider nicht explizit im Transkript erwähnt.\n",
      "\n",
      "### Informationen über Vater und Partner:\n",
      "6. **VAT_JG**: Leider nicht explizit im Transkript erwähnt.\n",
      "7. **VAT_KONFESSION**: Leider nicht explizit im Transkript erwähnt.\n",
      "8. **VAT_HERKUN**: Leider nicht explizit im Transkript erwähnt.\n",
      "9. **VAT_SCHULE**: Leider nicht explizit im Transkript erwähnt.\n",
      "10. **VAT_AUSBIL**: Gelernter Überseekaufmann.\n",
      "11. **VAT_STAND**: War bei der Arbeitsfront tätig, speziell als Kreisorganisationsleiter.\n",
      "12. **VAT_POLOR**: Interessierte sich für gewerkschaftliche Arbeit, war aber nicht explizit politisch orientiert im Sinne von Parteizugehörigkeit.\n",
      "\n",
      "Es ist zu beachten, dass einige Informationen im Transkript nicht explizit genannt werden oder sich aus dem Kontext nicht eindeutig ableiten lassen.\n"
     ]
    }
   ],
   "source": [
    "MODEL_LLAMA_8B = \"llama3-8b-8192\"\n",
    "MODEL_MIXTRAL = \"mixtral-8x7b-32768\"\n",
    "MODEL_LLAMA_70B = \"llama-3.3-70b-versatile\"\n",
    "# Use the models directly in predictions\n",
    "llama_8b_response = client.chat.completions.create(\n",
    "    model=MODEL_LLAMA_8B,\n",
    "    messages=[{\"role\": \"user\", \"content\": prompt}],\n",
    "    temperature=0,\n",
    ")\n",
    "\n",
    "mixtral_response = client.chat.completions.create(\n",
    "    model=MODEL_MIXTRAL,\n",
    "    messages=[{\"role\": \"user\", \"content\": prompt}],\n",
    "    temperature=0,\n",
    ")\n",
    "\n",
    "llama_70b_response = client.chat.completions.create(\n",
    "    model=MODEL_LLAMA_70B,\n",
    "    messages=[{\"role\": \"user\", \"content\": prompt}],\n",
    "    temperature=0,\n",
    ")\n",
    "\n",
    "# Generate responses for each model\n",
    "llama_8b_response = extract_metadata_in_german(client, MODEL_LLAMA_8B, transcript)\n",
    "mixtral_response = extract_metadata_in_german(client, MODEL_MIXTRAL, transcript)\n",
    "llama_70b_response = extract_metadata_in_german(client, MODEL_LLAMA_70B, transcript)\n",
    "\n",
    "# Print responses\n",
    "print(\"Llama 8B Response:\", llama_8b_response)\n",
    "print(\"Mixtral Response:\", mixtral_response)\n",
    "print(\"Llama 70B Response:\", llama_70b_response)\n"
   ]
  },
  {
   "cell_type": "code",
   "execution_count": 18,
   "id": "aa36a27c-187a-4724-a67e-c70ad7c9f482",
   "metadata": {},
   "outputs": [],
   "source": []
  },
  {
   "cell_type": "code",
   "execution_count": null,
   "id": "b9060cfd-498d-44b8-9227-706857e1bc3d",
   "metadata": {},
   "outputs": [],
   "source": []
  },
  {
   "cell_type": "code",
   "execution_count": null,
   "id": "979241ef-8577-414b-b22a-bc541c9b0969",
   "metadata": {},
   "outputs": [],
   "source": [
    "\n"
   ]
  }
 ],
 "metadata": {
  "kernelspec": {
   "display_name": "Python 3 (ipykernel)",
   "language": "python",
   "name": "python3"
  },
  "language_info": {
   "codemirror_mode": {
    "name": "ipython",
    "version": 3
   },
   "file_extension": ".py",
   "mimetype": "text/x-python",
   "name": "python",
   "nbconvert_exporter": "python",
   "pygments_lexer": "ipython3",
   "version": "3.11.10"
  }
 },
 "nbformat": 4,
 "nbformat_minor": 5
}
